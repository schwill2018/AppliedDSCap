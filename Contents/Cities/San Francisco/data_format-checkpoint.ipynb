{
 "cells": [
  {
   "cell_type": "code",
   "execution_count": 188,
   "metadata": {},
   "outputs": [],
   "source": [
    "#!pip install shapely\n",
    "import pandas as pd\n",
    "pd.set_option('display.max_columns', None)\n",
    "pd.set_option('display.max_rows', None)\n",
    "from arcgis.gis import GIS\n",
    "from arcgis.features import analysis\n",
    "from arcgis.features import GeoAccessor, GeoSeriesAccessor\n",
    "import shapely\n",
    "import json\n",
    "import geopandas as gpd\n",
    "from arcgis import geometry\n",
    "from arcgis.geometry import Point"
   ]
  },
  {
   "cell_type": "code",
   "execution_count": 189,
   "metadata": {},
   "outputs": [],
   "source": [
    "gis = GIS(\"https://www.arcgis.com\", \"WWSscript\", \"Z3MWMrnEhXid4Z3\")"
   ]
  },
  {
   "cell_type": "code",
   "execution_count": 190,
   "metadata": {},
   "outputs": [],
   "source": [
    "#sf_nbrhd = {\n",
    "#    'title': 'San Francisco Neighborhoods',\n",
    " #   'tags': 'san fran, open data, neighborhoods',\n",
    " #   'type': 'Shapefile'\n",
    "#}\n",
    "\n",
    " #data_file_location = r'C:\\Users\\schne\\Desktop\\IBM Data Science Certification\\Python v2\\Applied Data Science Capstone\\Notebooks\\Data\\SanFran_Neighborhoods.zip'\n",
    "# parks_shp = gis.content.add(sf_nbrhd, data=data_file_location)\n",
    "\n",
    " # You can now visualize the Item object `parks_shp` in rich HTML notation in your notebook.\n",
    "# parks_shp\n",
    "\n",
    "#sfn_feature_layer_item = parks_shp.publish()\n",
    "\n",
    "# Then visualize the new feature layer\n",
    "#sfn_feature_layer_item\n",
    "\n",
    "#sfn_feature_layer_item.url"
   ]
  },
  {
   "cell_type": "code",
   "execution_count": 191,
   "metadata": {},
   "outputs": [
    {
     "data": {
      "text/plain": [
       "[<Item title:\"San Francisco Neighborhoods\" type:Feature Layer Collection owner:WWSscript>]"
      ]
     },
     "execution_count": 191,
     "metadata": {},
     "output_type": "execute_result"
    }
   ],
   "source": [
    "#Query Neighborhood layer after loading to ArcGis\n",
    "search_results = gis.content.search(query='title: \"San Francisco Neighborhoods*\" AND type: \"Feature Service\"')\n",
    "search_results"
   ]
  },
  {
   "cell_type": "code",
   "execution_count": 192,
   "metadata": {},
   "outputs": [
    {
     "data": {
      "text/plain": [
       "<FeatureLayer url:\"https://services5.arcgis.com/qUtgcj6DJcxkeMSS/arcgis/rest/services/SanFran_Neighborhoods/FeatureServer/0\">"
      ]
     },
     "execution_count": 192,
     "metadata": {},
     "output_type": "execute_result"
    }
   ],
   "source": [
    "###Query Feature Layer from ArcGis Map repository\n",
    "\n",
    "##Call query results to a feature item\n",
    "feature_service_item = search_results[0]\n",
    "\n",
    "##Call feature item as feature layer\n",
    "feature_layer = feature_service_item.layers[0]\n",
    "feature_layer\n"
   ]
  },
  {
   "cell_type": "code",
   "execution_count": 193,
   "metadata": {},
   "outputs": [],
   "source": [
    "#Convert feature later into a df\n",
    "sdf = pd.DataFrame.spatial.from_layer(feature_layer)"
   ]
  },
  {
   "cell_type": "code",
   "execution_count": 194,
   "metadata": {},
   "outputs": [
    {
     "name": "stderr",
     "output_type": "stream",
     "text": [
      "Service name find centroids is not usable.\n",
      "{\"messageCode\": \"AO_100254\", \"message\": \"FindCentroids failed.\"}\n",
      "Failed to execute (FindCentroids).\n",
      "Failed.\n"
     ]
    },
    {
     "ename": "Exception",
     "evalue": "Job failed.",
     "output_type": "error",
     "traceback": [
      "\u001b[1;31m---------------------------------------------------------------------------\u001b[0m",
      "\u001b[1;31mException\u001b[0m                                 Traceback (most recent call last)",
      "\u001b[1;32m<ipython-input-194-e5aab19d6484>\u001b[0m in \u001b[0;36m<module>\u001b[1;34m\u001b[0m\n\u001b[1;32m----> 1\u001b[1;33m sf_centroids = analysis.find_centroids(feature_layer,\n\u001b[0m\u001b[0;32m      2\u001b[0m                           \u001b[0mpoint_location\u001b[0m\u001b[1;33m=\u001b[0m\u001b[1;32mTrue\u001b[0m\u001b[1;33m,\u001b[0m\u001b[1;33m\u001b[0m\u001b[1;33m\u001b[0m\u001b[0m\n\u001b[0;32m      3\u001b[0m                           output_name='find centroids')\n\u001b[0;32m      4\u001b[0m \u001b[0msf_centroids\u001b[0m\u001b[1;33m\u001b[0m\u001b[1;33m\u001b[0m\u001b[0m\n",
      "\u001b[1;32m~\\anaconda3\\lib\\site-packages\\arcgis\\features\\find_locations.py\u001b[0m in \u001b[0;36mfind_centroids\u001b[1;34m(input_layer, point_location, output_name, context, gis, estimate, future)\u001b[0m\n\u001b[0;32m    704\u001b[0m     \u001b[1;32mif\u001b[0m \u001b[1;34m'context'\u001b[0m \u001b[1;32mnot\u001b[0m \u001b[1;32min\u001b[0m \u001b[0mparams_tool\u001b[0m \u001b[1;32mand\u001b[0m \u001b[1;34m'context'\u001b[0m \u001b[1;32min\u001b[0m \u001b[0mparams\u001b[0m\u001b[1;33m:\u001b[0m\u001b[1;33m\u001b[0m\u001b[1;33m\u001b[0m\u001b[0m\n\u001b[0;32m    705\u001b[0m         \u001b[1;32mdel\u001b[0m \u001b[0mparams\u001b[0m\u001b[1;33m[\u001b[0m\u001b[1;34m'context'\u001b[0m\u001b[1;33m]\u001b[0m\u001b[1;33m\u001b[0m\u001b[1;33m\u001b[0m\u001b[0m\n\u001b[1;32m--> 706\u001b[1;33m     \u001b[1;32mreturn\u001b[0m \u001b[0mgis\u001b[0m\u001b[1;33m.\u001b[0m\u001b[0m_tools\u001b[0m\u001b[1;33m.\u001b[0m\u001b[0mfeatureanalysis\u001b[0m\u001b[1;33m.\u001b[0m\u001b[0mfind_centroids\u001b[0m\u001b[1;33m(\u001b[0m\u001b[1;33m**\u001b[0m\u001b[0mparams\u001b[0m\u001b[1;33m)\u001b[0m\u001b[1;33m\u001b[0m\u001b[1;33m\u001b[0m\u001b[0m\n\u001b[0m\u001b[0;32m    707\u001b[0m \u001b[1;31m#--------------------------------------------------------------------------\u001b[0m\u001b[1;33m\u001b[0m\u001b[1;33m\u001b[0m\u001b[1;33m\u001b[0m\u001b[0m\n\u001b[0;32m    708\u001b[0m def choose_best_facilities(goal='Allocate',\n",
      "\u001b[1;32m~\\anaconda3\\lib\\site-packages\\arcgis\\_impl\\tools.py\u001b[0m in \u001b[0;36mfind_centroids\u001b[1;34m(self, input_layer, point_location, output_name, context, estimate, future)\u001b[0m\n\u001b[0;32m   1968\u001b[0m         \u001b[1;32mif\u001b[0m \u001b[0mfuture\u001b[0m\u001b[1;33m:\u001b[0m\u001b[1;33m\u001b[0m\u001b[1;33m\u001b[0m\u001b[0m\n\u001b[0;32m   1969\u001b[0m             \u001b[1;32mreturn\u001b[0m \u001b[0mgpjob\u001b[0m\u001b[1;33m\u001b[0m\u001b[1;33m\u001b[0m\u001b[0m\n\u001b[1;32m-> 1970\u001b[1;33m         \u001b[1;32mreturn\u001b[0m \u001b[0mgpjob\u001b[0m\u001b[1;33m.\u001b[0m\u001b[0mresult\u001b[0m\u001b[1;33m(\u001b[0m\u001b[1;33m)\u001b[0m\u001b[1;33m\u001b[0m\u001b[1;33m\u001b[0m\u001b[0m\n\u001b[0m\u001b[0;32m   1971\u001b[0m \u001b[1;33m\u001b[0m\u001b[0m\n\u001b[0;32m   1972\u001b[0m     \u001b[1;31m#----------------------------------------------------------------------\u001b[0m\u001b[1;33m\u001b[0m\u001b[1;33m\u001b[0m\u001b[1;33m\u001b[0m\u001b[0m\n",
      "\u001b[1;32m~\\anaconda3\\lib\\site-packages\\arcgis\\geoprocessing\\_job.py\u001b[0m in \u001b[0;36mresult\u001b[1;34m(self)\u001b[0m\n\u001b[0;32m    185\u001b[0m             \u001b[1;32mreturn\u001b[0m \u001b[1;32mNone\u001b[0m\u001b[1;33m\u001b[0m\u001b[1;33m\u001b[0m\u001b[0m\n\u001b[0;32m    186\u001b[0m         \u001b[1;32mif\u001b[0m \u001b[0mself\u001b[0m\u001b[1;33m.\u001b[0m\u001b[0m_is_fa\u001b[0m\u001b[1;33m:\u001b[0m\u001b[1;33m\u001b[0m\u001b[1;33m\u001b[0m\u001b[0m\n\u001b[1;32m--> 187\u001b[1;33m             \u001b[1;32mreturn\u001b[0m \u001b[0mself\u001b[0m\u001b[1;33m.\u001b[0m\u001b[0m_process_fa\u001b[0m\u001b[1;33m(\u001b[0m\u001b[0mself\u001b[0m\u001b[1;33m.\u001b[0m\u001b[0m_future\u001b[0m\u001b[1;33m.\u001b[0m\u001b[0mresult\u001b[0m\u001b[1;33m(\u001b[0m\u001b[1;33m)\u001b[0m\u001b[1;33m)\u001b[0m\u001b[1;33m\u001b[0m\u001b[1;33m\u001b[0m\u001b[0m\n\u001b[0m\u001b[0;32m    188\u001b[0m         \u001b[1;32melif\u001b[0m \u001b[0mself\u001b[0m\u001b[1;33m.\u001b[0m\u001b[0m_is_ra\u001b[0m\u001b[1;33m:\u001b[0m\u001b[1;33m\u001b[0m\u001b[1;33m\u001b[0m\u001b[0m\n\u001b[0;32m    189\u001b[0m             \u001b[1;32mreturn\u001b[0m \u001b[0mself\u001b[0m\u001b[1;33m.\u001b[0m\u001b[0m_process_ra\u001b[0m\u001b[1;33m(\u001b[0m\u001b[0mself\u001b[0m\u001b[1;33m.\u001b[0m\u001b[0m_future\u001b[0m\u001b[1;33m.\u001b[0m\u001b[0mresult\u001b[0m\u001b[1;33m(\u001b[0m\u001b[1;33m)\u001b[0m\u001b[1;33m)\u001b[0m\u001b[1;33m\u001b[0m\u001b[1;33m\u001b[0m\u001b[0m\n",
      "\u001b[1;32m~\\anaconda3\\lib\\concurrent\\futures\\_base.py\u001b[0m in \u001b[0;36mresult\u001b[1;34m(self, timeout)\u001b[0m\n\u001b[0;32m    437\u001b[0m                 \u001b[1;32mraise\u001b[0m \u001b[0mCancelledError\u001b[0m\u001b[1;33m(\u001b[0m\u001b[1;33m)\u001b[0m\u001b[1;33m\u001b[0m\u001b[1;33m\u001b[0m\u001b[0m\n\u001b[0;32m    438\u001b[0m             \u001b[1;32melif\u001b[0m \u001b[0mself\u001b[0m\u001b[1;33m.\u001b[0m\u001b[0m_state\u001b[0m \u001b[1;33m==\u001b[0m \u001b[0mFINISHED\u001b[0m\u001b[1;33m:\u001b[0m\u001b[1;33m\u001b[0m\u001b[1;33m\u001b[0m\u001b[0m\n\u001b[1;32m--> 439\u001b[1;33m                 \u001b[1;32mreturn\u001b[0m \u001b[0mself\u001b[0m\u001b[1;33m.\u001b[0m\u001b[0m__get_result\u001b[0m\u001b[1;33m(\u001b[0m\u001b[1;33m)\u001b[0m\u001b[1;33m\u001b[0m\u001b[1;33m\u001b[0m\u001b[0m\n\u001b[0m\u001b[0;32m    440\u001b[0m             \u001b[1;32melse\u001b[0m\u001b[1;33m:\u001b[0m\u001b[1;33m\u001b[0m\u001b[1;33m\u001b[0m\u001b[0m\n\u001b[0;32m    441\u001b[0m                 \u001b[1;32mraise\u001b[0m \u001b[0mTimeoutError\u001b[0m\u001b[1;33m(\u001b[0m\u001b[1;33m)\u001b[0m\u001b[1;33m\u001b[0m\u001b[1;33m\u001b[0m\u001b[0m\n",
      "\u001b[1;32m~\\anaconda3\\lib\\concurrent\\futures\\_base.py\u001b[0m in \u001b[0;36m__get_result\u001b[1;34m(self)\u001b[0m\n\u001b[0;32m    386\u001b[0m     \u001b[1;32mdef\u001b[0m \u001b[0m__get_result\u001b[0m\u001b[1;33m(\u001b[0m\u001b[0mself\u001b[0m\u001b[1;33m)\u001b[0m\u001b[1;33m:\u001b[0m\u001b[1;33m\u001b[0m\u001b[1;33m\u001b[0m\u001b[0m\n\u001b[0;32m    387\u001b[0m         \u001b[1;32mif\u001b[0m \u001b[0mself\u001b[0m\u001b[1;33m.\u001b[0m\u001b[0m_exception\u001b[0m\u001b[1;33m:\u001b[0m\u001b[1;33m\u001b[0m\u001b[1;33m\u001b[0m\u001b[0m\n\u001b[1;32m--> 388\u001b[1;33m             \u001b[1;32mraise\u001b[0m \u001b[0mself\u001b[0m\u001b[1;33m.\u001b[0m\u001b[0m_exception\u001b[0m\u001b[1;33m\u001b[0m\u001b[1;33m\u001b[0m\u001b[0m\n\u001b[0m\u001b[0;32m    389\u001b[0m         \u001b[1;32melse\u001b[0m\u001b[1;33m:\u001b[0m\u001b[1;33m\u001b[0m\u001b[1;33m\u001b[0m\u001b[0m\n\u001b[0;32m    390\u001b[0m             \u001b[1;32mreturn\u001b[0m \u001b[0mself\u001b[0m\u001b[1;33m.\u001b[0m\u001b[0m_result\u001b[0m\u001b[1;33m\u001b[0m\u001b[1;33m\u001b[0m\u001b[0m\n",
      "\u001b[1;32m~\\anaconda3\\lib\\concurrent\\futures\\thread.py\u001b[0m in \u001b[0;36mrun\u001b[1;34m(self)\u001b[0m\n\u001b[0;32m     55\u001b[0m \u001b[1;33m\u001b[0m\u001b[0m\n\u001b[0;32m     56\u001b[0m         \u001b[1;32mtry\u001b[0m\u001b[1;33m:\u001b[0m\u001b[1;33m\u001b[0m\u001b[1;33m\u001b[0m\u001b[0m\n\u001b[1;32m---> 57\u001b[1;33m             \u001b[0mresult\u001b[0m \u001b[1;33m=\u001b[0m \u001b[0mself\u001b[0m\u001b[1;33m.\u001b[0m\u001b[0mfn\u001b[0m\u001b[1;33m(\u001b[0m\u001b[1;33m*\u001b[0m\u001b[0mself\u001b[0m\u001b[1;33m.\u001b[0m\u001b[0margs\u001b[0m\u001b[1;33m,\u001b[0m \u001b[1;33m**\u001b[0m\u001b[0mself\u001b[0m\u001b[1;33m.\u001b[0m\u001b[0mkwargs\u001b[0m\u001b[1;33m)\u001b[0m\u001b[1;33m\u001b[0m\u001b[1;33m\u001b[0m\u001b[0m\n\u001b[0m\u001b[0;32m     58\u001b[0m         \u001b[1;32mexcept\u001b[0m \u001b[0mBaseException\u001b[0m \u001b[1;32mas\u001b[0m \u001b[0mexc\u001b[0m\u001b[1;33m:\u001b[0m\u001b[1;33m\u001b[0m\u001b[1;33m\u001b[0m\u001b[0m\n\u001b[0;32m     59\u001b[0m             \u001b[0mself\u001b[0m\u001b[1;33m.\u001b[0m\u001b[0mfuture\u001b[0m\u001b[1;33m.\u001b[0m\u001b[0mset_exception\u001b[0m\u001b[1;33m(\u001b[0m\u001b[0mexc\u001b[0m\u001b[1;33m)\u001b[0m\u001b[1;33m\u001b[0m\u001b[1;33m\u001b[0m\u001b[0m\n",
      "\u001b[1;32m~\\anaconda3\\lib\\site-packages\\arcgis\\geoprocessing\\_support.py\u001b[0m in \u001b[0;36m_future_op\u001b[1;34m(gptool, task_url, job_info, job_id, param_db, return_values, return_messages)\u001b[0m\n\u001b[0;32m    283\u001b[0m \u001b[1;32mdef\u001b[0m \u001b[0m_future_op\u001b[0m\u001b[1;33m(\u001b[0m\u001b[0mgptool\u001b[0m\u001b[1;33m,\u001b[0m \u001b[0mtask_url\u001b[0m\u001b[1;33m,\u001b[0m \u001b[0mjob_info\u001b[0m\u001b[1;33m,\u001b[0m \u001b[0mjob_id\u001b[0m\u001b[1;33m,\u001b[0m \u001b[0mparam_db\u001b[0m\u001b[1;33m,\u001b[0m \u001b[0mreturn_values\u001b[0m\u001b[1;33m,\u001b[0m \u001b[0mreturn_messages\u001b[0m\u001b[1;33m)\u001b[0m\u001b[1;33m:\u001b[0m\u001b[1;33m\u001b[0m\u001b[1;33m\u001b[0m\u001b[0m\n\u001b[0;32m    284\u001b[0m \u001b[1;33m\u001b[0m\u001b[0m\n\u001b[1;32m--> 285\u001b[1;33m     \u001b[0mjob_info\u001b[0m \u001b[1;33m=\u001b[0m \u001b[0m_analysis_job_status\u001b[0m\u001b[1;33m(\u001b[0m\u001b[0mgptool\u001b[0m\u001b[1;33m,\u001b[0m \u001b[0mtask_url\u001b[0m\u001b[1;33m,\u001b[0m \u001b[0mjob_info\u001b[0m\u001b[1;33m)\u001b[0m\u001b[1;33m\u001b[0m\u001b[1;33m\u001b[0m\u001b[0m\n\u001b[0m\u001b[0;32m    286\u001b[0m     \u001b[0mresp\u001b[0m \u001b[1;33m=\u001b[0m \u001b[0m_analysis_job_results\u001b[0m\u001b[1;33m(\u001b[0m\u001b[0mgptool\u001b[0m\u001b[1;33m,\u001b[0m \u001b[0mtask_url\u001b[0m\u001b[1;33m,\u001b[0m \u001b[0mjob_info\u001b[0m\u001b[1;33m,\u001b[0m \u001b[0mjob_id\u001b[0m\u001b[1;33m)\u001b[0m\u001b[1;33m\u001b[0m\u001b[1;33m\u001b[0m\u001b[0m\n\u001b[0;32m    287\u001b[0m \u001b[1;33m\u001b[0m\u001b[0m\n",
      "\u001b[1;32m~\\anaconda3\\lib\\site-packages\\arcgis\\geoprocessing\\_support.py\u001b[0m in \u001b[0;36m_analysis_job_status\u001b[1;34m(gptool, task_url, job_info)\u001b[0m\n\u001b[0;32m    229\u001b[0m \u001b[1;33m\u001b[0m\u001b[0m\n\u001b[0;32m    230\u001b[0m                     \u001b[1;32mif\u001b[0m \u001b[0mjob_response\u001b[0m\u001b[1;33m.\u001b[0m\u001b[0mget\u001b[0m\u001b[1;33m(\u001b[0m\u001b[1;34m\"jobStatus\"\u001b[0m\u001b[1;33m)\u001b[0m \u001b[1;33m==\u001b[0m \u001b[1;34m\"esriJobFailed\"\u001b[0m\u001b[1;33m:\u001b[0m\u001b[1;33m\u001b[0m\u001b[1;33m\u001b[0m\u001b[0m\n\u001b[1;32m--> 231\u001b[1;33m                         \u001b[1;32mraise\u001b[0m \u001b[0mException\u001b[0m\u001b[1;33m(\u001b[0m\u001b[1;34m\"Job failed.\"\u001b[0m\u001b[1;33m)\u001b[0m\u001b[1;33m\u001b[0m\u001b[1;33m\u001b[0m\u001b[0m\n\u001b[0m\u001b[0;32m    232\u001b[0m                     \u001b[1;32melif\u001b[0m \u001b[0mjob_response\u001b[0m\u001b[1;33m.\u001b[0m\u001b[0mget\u001b[0m\u001b[1;33m(\u001b[0m\u001b[1;34m\"jobStatus\"\u001b[0m\u001b[1;33m)\u001b[0m \u001b[1;33m==\u001b[0m \u001b[1;34m\"esriJobCancelled\"\u001b[0m\u001b[1;33m:\u001b[0m\u001b[1;33m\u001b[0m\u001b[1;33m\u001b[0m\u001b[0m\n\u001b[0;32m    233\u001b[0m                         \u001b[1;32mraise\u001b[0m \u001b[0mException\u001b[0m\u001b[1;33m(\u001b[0m\u001b[1;34m\"Job cancelled.\"\u001b[0m\u001b[1;33m)\u001b[0m\u001b[1;33m\u001b[0m\u001b[1;33m\u001b[0m\u001b[0m\n",
      "\u001b[1;31mException\u001b[0m: Job failed."
     ]
    }
   ],
   "source": [
    "#Create centroids from Neighborhood polygons\n",
    "sf_centroids = analysis.find_centroids(feature_layer,\n",
    "                          point_location=True,\n",
    "                          output_name='find centroids')\n",
    "sf_centroids"
   ]
  },
  {
   "cell_type": "code",
   "execution_count": 195,
   "metadata": {},
   "outputs": [
    {
     "data": {
      "text/plain": [
       "[<Item title:\"find centroids\" type:Feature Layer Collection owner:WWSscript>]"
      ]
     },
     "execution_count": 195,
     "metadata": {},
     "output_type": "execute_result"
    }
   ],
   "source": [
    "##Query centroid feature layer\n",
    "search_results_c = gis.content.search(query='title: \"find centroids*\" AND type: \"Feature Service\"')\n",
    "search_results_c"
   ]
  },
  {
   "cell_type": "code",
   "execution_count": 196,
   "metadata": {},
   "outputs": [
    {
     "name": "stdout",
     "output_type": "stream",
     "text": [
      "<FeatureLayer url:\"https://services5.arcgis.com/qUtgcj6DJcxkeMSS/arcgis/rest/services/find centroids/FeatureServer/0\">\n"
     ]
    },
    {
     "data": {
      "text/html": [
       "<div>\n",
       "<style scoped>\n",
       "    .dataframe tbody tr th:only-of-type {\n",
       "        vertical-align: middle;\n",
       "    }\n",
       "\n",
       "    .dataframe tbody tr th {\n",
       "        vertical-align: top;\n",
       "    }\n",
       "\n",
       "    .dataframe thead th {\n",
       "        text-align: right;\n",
       "    }\n",
       "</style>\n",
       "<table border=\"1\" class=\"dataframe\">\n",
       "  <thead>\n",
       "    <tr style=\"text-align: right;\">\n",
       "      <th></th>\n",
       "      <th>OBJECTID</th>\n",
       "      <th>nbrhood</th>\n",
       "      <th>nid</th>\n",
       "      <th>sfar_distr</th>\n",
       "      <th>Shape__Area</th>\n",
       "      <th>Shape__Length</th>\n",
       "      <th>ORIG_FID</th>\n",
       "      <th>SHAPE</th>\n",
       "    </tr>\n",
       "  </thead>\n",
       "  <tbody>\n",
       "    <tr>\n",
       "      <th>0</th>\n",
       "      <td>1</td>\n",
       "      <td>Merced Manor</td>\n",
       "      <td>3f</td>\n",
       "      <td>District 3 - Southwest</td>\n",
       "      <td>390698.472656</td>\n",
       "      <td>2537.859137</td>\n",
       "      <td>45</td>\n",
       "      <td>{\"x\": -13634243.1132, \"y\": 4541761.690399997, ...</td>\n",
       "    </tr>\n",
       "    <tr>\n",
       "      <th>1</th>\n",
       "      <td>2</td>\n",
       "      <td>Monterey Heights</td>\n",
       "      <td>4m</td>\n",
       "      <td>District 4 - Twin Peaks West</td>\n",
       "      <td>368775.332031</td>\n",
       "      <td>2554.749361</td>\n",
       "      <td>38</td>\n",
       "      <td>{\"x\": -13632318.4792, \"y\": 4541732.381499998, ...</td>\n",
       "    </tr>\n",
       "    <tr>\n",
       "      <th>2</th>\n",
       "      <td>3</td>\n",
       "      <td>Balboa Terrace</td>\n",
       "      <td>4a</td>\n",
       "      <td>District 4 - Twin Peaks West</td>\n",
       "      <td>349939.445312</td>\n",
       "      <td>2597.270308</td>\n",
       "      <td>3</td>\n",
       "      <td>{\"x\": -13633126.561, \"y\": 4541549.568400003, \"...</td>\n",
       "    </tr>\n",
       "    <tr>\n",
       "      <th>3</th>\n",
       "      <td>4</td>\n",
       "      <td>Anza Vista</td>\n",
       "      <td>6a</td>\n",
       "      <td>District 6 - Central North</td>\n",
       "      <td>463146.500000</td>\n",
       "      <td>2829.807921</td>\n",
       "      <td>2</td>\n",
       "      <td>{\"x\": -13630331.681, \"y\": 4548535.272500001, \"...</td>\n",
       "    </tr>\n",
       "    <tr>\n",
       "      <th>4</th>\n",
       "      <td>5</td>\n",
       "      <td>Alamo Square</td>\n",
       "      <td>6e</td>\n",
       "      <td>District 6 - Central North</td>\n",
       "      <td>520422.613281</td>\n",
       "      <td>3166.780152</td>\n",
       "      <td>1</td>\n",
       "      <td>{\"x\": -13629342.3257, \"y\": 4547909.964900002, ...</td>\n",
       "    </tr>\n",
       "  </tbody>\n",
       "</table>\n",
       "</div>"
      ],
      "text/plain": [
       "   OBJECTID           nbrhood nid                    sfar_distr  \\\n",
       "0         1      Merced Manor  3f        District 3 - Southwest   \n",
       "1         2  Monterey Heights  4m  District 4 - Twin Peaks West   \n",
       "2         3    Balboa Terrace  4a  District 4 - Twin Peaks West   \n",
       "3         4        Anza Vista  6a    District 6 - Central North   \n",
       "4         5      Alamo Square  6e    District 6 - Central North   \n",
       "\n",
       "     Shape__Area  Shape__Length  ORIG_FID  \\\n",
       "0  390698.472656    2537.859137        45   \n",
       "1  368775.332031    2554.749361        38   \n",
       "2  349939.445312    2597.270308         3   \n",
       "3  463146.500000    2829.807921         2   \n",
       "4  520422.613281    3166.780152         1   \n",
       "\n",
       "                                               SHAPE  \n",
       "0  {\"x\": -13634243.1132, \"y\": 4541761.690399997, ...  \n",
       "1  {\"x\": -13632318.4792, \"y\": 4541732.381499998, ...  \n",
       "2  {\"x\": -13633126.561, \"y\": 4541549.568400003, \"...  \n",
       "3  {\"x\": -13630331.681, \"y\": 4548535.272500001, \"...  \n",
       "4  {\"x\": -13629342.3257, \"y\": 4547909.964900002, ...  "
      ]
     },
     "execution_count": 196,
     "metadata": {},
     "output_type": "execute_result"
    }
   ],
   "source": [
    "###Query centroid (feature) Layer from ArcGis Map repository\n",
    "\n",
    "##Call query results to a feature item\n",
    "feature_service_centroid = search_results_c[0]\n",
    "centroid_layer = feature_service_centroid.layers[0]\n",
    "print(centroid_layer)\n",
    "\n",
    "##Convert layer to dataframe\n",
    "sdf = pd.DataFrame.spatial.from_layer(centroid_layer)\n",
    "sdf.head()"
   ]
  },
  {
   "cell_type": "code",
   "execution_count": 197,
   "metadata": {},
   "outputs": [
    {
     "name": "stdout",
     "output_type": "stream",
     "text": [
      "(92, 8)\n"
     ]
    },
    {
     "data": {
      "text/html": [
       "<div>\n",
       "<style scoped>\n",
       "    .dataframe tbody tr th:only-of-type {\n",
       "        vertical-align: middle;\n",
       "    }\n",
       "\n",
       "    .dataframe tbody tr th {\n",
       "        vertical-align: top;\n",
       "    }\n",
       "\n",
       "    .dataframe thead th {\n",
       "        text-align: right;\n",
       "    }\n",
       "</style>\n",
       "<table border=\"1\" class=\"dataframe\">\n",
       "  <thead>\n",
       "    <tr style=\"text-align: right;\">\n",
       "      <th></th>\n",
       "      <th>OBJECTID</th>\n",
       "      <th>nbrhood</th>\n",
       "      <th>nid</th>\n",
       "      <th>sfar_distr</th>\n",
       "      <th>Shape__Area</th>\n",
       "      <th>Shape__Length</th>\n",
       "      <th>ORIG_FID</th>\n",
       "      <th>SHAPE</th>\n",
       "    </tr>\n",
       "  </thead>\n",
       "  <tbody>\n",
       "    <tr>\n",
       "      <th>0</th>\n",
       "      <td>1</td>\n",
       "      <td>Merced Manor</td>\n",
       "      <td>3f</td>\n",
       "      <td>District 3 - Southwest</td>\n",
       "      <td>390698.472656</td>\n",
       "      <td>2537.859137</td>\n",
       "      <td>45</td>\n",
       "      <td>{\"x\": -13634243.1132, \"y\": 4541761.690399997, ...</td>\n",
       "    </tr>\n",
       "    <tr>\n",
       "      <th>1</th>\n",
       "      <td>2</td>\n",
       "      <td>Monterey Heights</td>\n",
       "      <td>4m</td>\n",
       "      <td>District 4 - Twin Peaks West</td>\n",
       "      <td>368775.332031</td>\n",
       "      <td>2554.749361</td>\n",
       "      <td>38</td>\n",
       "      <td>{\"x\": -13632318.4792, \"y\": 4541732.381499998, ...</td>\n",
       "    </tr>\n",
       "    <tr>\n",
       "      <th>2</th>\n",
       "      <td>3</td>\n",
       "      <td>Balboa Terrace</td>\n",
       "      <td>4a</td>\n",
       "      <td>District 4 - Twin Peaks West</td>\n",
       "      <td>349939.445312</td>\n",
       "      <td>2597.270308</td>\n",
       "      <td>3</td>\n",
       "      <td>{\"x\": -13633126.561, \"y\": 4541549.568400003, \"...</td>\n",
       "    </tr>\n",
       "    <tr>\n",
       "      <th>3</th>\n",
       "      <td>4</td>\n",
       "      <td>Anza Vista</td>\n",
       "      <td>6a</td>\n",
       "      <td>District 6 - Central North</td>\n",
       "      <td>463146.500000</td>\n",
       "      <td>2829.807921</td>\n",
       "      <td>2</td>\n",
       "      <td>{\"x\": -13630331.681, \"y\": 4548535.272500001, \"...</td>\n",
       "    </tr>\n",
       "    <tr>\n",
       "      <th>4</th>\n",
       "      <td>5</td>\n",
       "      <td>Alamo Square</td>\n",
       "      <td>6e</td>\n",
       "      <td>District 6 - Central North</td>\n",
       "      <td>520422.613281</td>\n",
       "      <td>3166.780152</td>\n",
       "      <td>1</td>\n",
       "      <td>{\"x\": -13629342.3257, \"y\": 4547909.964900002, ...</td>\n",
       "    </tr>\n",
       "  </tbody>\n",
       "</table>\n",
       "</div>"
      ],
      "text/plain": [
       "   OBJECTID           nbrhood nid                    sfar_distr  \\\n",
       "0         1      Merced Manor  3f        District 3 - Southwest   \n",
       "1         2  Monterey Heights  4m  District 4 - Twin Peaks West   \n",
       "2         3    Balboa Terrace  4a  District 4 - Twin Peaks West   \n",
       "3         4        Anza Vista  6a    District 6 - Central North   \n",
       "4         5      Alamo Square  6e    District 6 - Central North   \n",
       "\n",
       "     Shape__Area  Shape__Length  ORIG_FID  \\\n",
       "0  390698.472656    2537.859137        45   \n",
       "1  368775.332031    2554.749361        38   \n",
       "2  349939.445312    2597.270308         3   \n",
       "3  463146.500000    2829.807921         2   \n",
       "4  520422.613281    3166.780152         1   \n",
       "\n",
       "                                               SHAPE  \n",
       "0  {\"x\": -13634243.1132, \"y\": 4541761.690399997, ...  \n",
       "1  {\"x\": -13632318.4792, \"y\": 4541732.381499998, ...  \n",
       "2  {\"x\": -13633126.561, \"y\": 4541549.568400003, \"...  \n",
       "3  {\"x\": -13630331.681, \"y\": 4548535.272500001, \"...  \n",
       "4  {\"x\": -13629342.3257, \"y\": 4547909.964900002, ...  "
      ]
     },
     "execution_count": 197,
     "metadata": {},
     "output_type": "execute_result"
    }
   ],
   "source": [
    "#Construct as normal dataframe \"Dont think this is required\"\n",
    "sdf1= pd.DataFrame(sdf)\n",
    "sfd=sdf1.reset_index(drop=True)\n",
    "# Check df shape\n",
    "print(sfd.shape)\n",
    "sfd.head()"
   ]
  },
  {
   "cell_type": "code",
   "execution_count": 198,
   "metadata": {},
   "outputs": [
    {
     "name": "stdout",
     "output_type": "stream",
     "text": [
      "(92, 4)\n"
     ]
    },
    {
     "data": {
      "text/html": [
       "<div>\n",
       "<style scoped>\n",
       "    .dataframe tbody tr th:only-of-type {\n",
       "        vertical-align: middle;\n",
       "    }\n",
       "\n",
       "    .dataframe tbody tr th {\n",
       "        vertical-align: top;\n",
       "    }\n",
       "\n",
       "    .dataframe thead th {\n",
       "        text-align: right;\n",
       "    }\n",
       "</style>\n",
       "<table border=\"1\" class=\"dataframe\">\n",
       "  <thead>\n",
       "    <tr style=\"text-align: right;\">\n",
       "      <th></th>\n",
       "      <th>x</th>\n",
       "      <th>y</th>\n",
       "      <th>spatialReference.wkid</th>\n",
       "      <th>spatialReference.latestWkid</th>\n",
       "    </tr>\n",
       "  </thead>\n",
       "  <tbody>\n",
       "    <tr>\n",
       "      <th>0</th>\n",
       "      <td>-1.363424e+07</td>\n",
       "      <td>4.541762e+06</td>\n",
       "      <td>102100</td>\n",
       "      <td>3857</td>\n",
       "    </tr>\n",
       "    <tr>\n",
       "      <th>1</th>\n",
       "      <td>-1.363232e+07</td>\n",
       "      <td>4.541732e+06</td>\n",
       "      <td>102100</td>\n",
       "      <td>3857</td>\n",
       "    </tr>\n",
       "    <tr>\n",
       "      <th>2</th>\n",
       "      <td>-1.363313e+07</td>\n",
       "      <td>4.541550e+06</td>\n",
       "      <td>102100</td>\n",
       "      <td>3857</td>\n",
       "    </tr>\n",
       "    <tr>\n",
       "      <th>3</th>\n",
       "      <td>-1.363033e+07</td>\n",
       "      <td>4.548535e+06</td>\n",
       "      <td>102100</td>\n",
       "      <td>3857</td>\n",
       "    </tr>\n",
       "    <tr>\n",
       "      <th>4</th>\n",
       "      <td>-1.362934e+07</td>\n",
       "      <td>4.547910e+06</td>\n",
       "      <td>102100</td>\n",
       "      <td>3857</td>\n",
       "    </tr>\n",
       "  </tbody>\n",
       "</table>\n",
       "</div>"
      ],
      "text/plain": [
       "              x             y  spatialReference.wkid  \\\n",
       "0 -1.363424e+07  4.541762e+06                 102100   \n",
       "1 -1.363232e+07  4.541732e+06                 102100   \n",
       "2 -1.363313e+07  4.541550e+06                 102100   \n",
       "3 -1.363033e+07  4.548535e+06                 102100   \n",
       "4 -1.362934e+07  4.547910e+06                 102100   \n",
       "\n",
       "   spatialReference.latestWkid  \n",
       "0                         3857  \n",
       "1                         3857  \n",
       "2                         3857  \n",
       "3                         3857  \n",
       "4                         3857  "
      ]
     },
     "execution_count": 198,
     "metadata": {},
     "output_type": "execute_result"
    }
   ],
   "source": [
    "#Convert coordinates into number format by normalizing json data\n",
    "coords=pd.json_normalize(sfd['SHAPE'])\n",
    "print(coords.shape)\n",
    "coords.head()"
   ]
  },
  {
   "cell_type": "code",
   "execution_count": 199,
   "metadata": {
    "scrolled": true
   },
   "outputs": [
    {
     "data": {
      "text/html": [
       "<div>\n",
       "<style scoped>\n",
       "    .dataframe tbody tr th:only-of-type {\n",
       "        vertical-align: middle;\n",
       "    }\n",
       "\n",
       "    .dataframe tbody tr th {\n",
       "        vertical-align: top;\n",
       "    }\n",
       "\n",
       "    .dataframe thead th {\n",
       "        text-align: right;\n",
       "    }\n",
       "</style>\n",
       "<table border=\"1\" class=\"dataframe\">\n",
       "  <thead>\n",
       "    <tr style=\"text-align: right;\">\n",
       "      <th></th>\n",
       "      <th>OBJECTID</th>\n",
       "      <th>nbrhood</th>\n",
       "      <th>nid</th>\n",
       "      <th>sfar_distr</th>\n",
       "      <th>Shape__Area</th>\n",
       "      <th>Shape__Length</th>\n",
       "      <th>ORIG_FID</th>\n",
       "      <th>SHAPE</th>\n",
       "      <th>x</th>\n",
       "      <th>y</th>\n",
       "      <th>spatialReference.wkid</th>\n",
       "      <th>spatialReference.latestWkid</th>\n",
       "    </tr>\n",
       "  </thead>\n",
       "  <tbody>\n",
       "    <tr>\n",
       "      <th>0</th>\n",
       "      <td>1</td>\n",
       "      <td>Merced Manor</td>\n",
       "      <td>3f</td>\n",
       "      <td>District 3 - Southwest</td>\n",
       "      <td>390698.472656</td>\n",
       "      <td>2537.859137</td>\n",
       "      <td>45</td>\n",
       "      <td>{\"x\": -13634243.1132, \"y\": 4541761.690399997, ...</td>\n",
       "      <td>-1.363424e+07</td>\n",
       "      <td>4.541762e+06</td>\n",
       "      <td>102100</td>\n",
       "      <td>3857</td>\n",
       "    </tr>\n",
       "    <tr>\n",
       "      <th>1</th>\n",
       "      <td>2</td>\n",
       "      <td>Monterey Heights</td>\n",
       "      <td>4m</td>\n",
       "      <td>District 4 - Twin Peaks West</td>\n",
       "      <td>368775.332031</td>\n",
       "      <td>2554.749361</td>\n",
       "      <td>38</td>\n",
       "      <td>{\"x\": -13632318.4792, \"y\": 4541732.381499998, ...</td>\n",
       "      <td>-1.363232e+07</td>\n",
       "      <td>4.541732e+06</td>\n",
       "      <td>102100</td>\n",
       "      <td>3857</td>\n",
       "    </tr>\n",
       "    <tr>\n",
       "      <th>2</th>\n",
       "      <td>3</td>\n",
       "      <td>Balboa Terrace</td>\n",
       "      <td>4a</td>\n",
       "      <td>District 4 - Twin Peaks West</td>\n",
       "      <td>349939.445312</td>\n",
       "      <td>2597.270308</td>\n",
       "      <td>3</td>\n",
       "      <td>{\"x\": -13633126.561, \"y\": 4541549.568400003, \"...</td>\n",
       "      <td>-1.363313e+07</td>\n",
       "      <td>4.541550e+06</td>\n",
       "      <td>102100</td>\n",
       "      <td>3857</td>\n",
       "    </tr>\n",
       "    <tr>\n",
       "      <th>3</th>\n",
       "      <td>4</td>\n",
       "      <td>Anza Vista</td>\n",
       "      <td>6a</td>\n",
       "      <td>District 6 - Central North</td>\n",
       "      <td>463146.500000</td>\n",
       "      <td>2829.807921</td>\n",
       "      <td>2</td>\n",
       "      <td>{\"x\": -13630331.681, \"y\": 4548535.272500001, \"...</td>\n",
       "      <td>-1.363033e+07</td>\n",
       "      <td>4.548535e+06</td>\n",
       "      <td>102100</td>\n",
       "      <td>3857</td>\n",
       "    </tr>\n",
       "    <tr>\n",
       "      <th>4</th>\n",
       "      <td>5</td>\n",
       "      <td>Alamo Square</td>\n",
       "      <td>6e</td>\n",
       "      <td>District 6 - Central North</td>\n",
       "      <td>520422.613281</td>\n",
       "      <td>3166.780152</td>\n",
       "      <td>1</td>\n",
       "      <td>{\"x\": -13629342.3257, \"y\": 4547909.964900002, ...</td>\n",
       "      <td>-1.362934e+07</td>\n",
       "      <td>4.547910e+06</td>\n",
       "      <td>102100</td>\n",
       "      <td>3857</td>\n",
       "    </tr>\n",
       "  </tbody>\n",
       "</table>\n",
       "</div>"
      ],
      "text/plain": [
       "   OBJECTID           nbrhood nid                    sfar_distr  \\\n",
       "0         1      Merced Manor  3f        District 3 - Southwest   \n",
       "1         2  Monterey Heights  4m  District 4 - Twin Peaks West   \n",
       "2         3    Balboa Terrace  4a  District 4 - Twin Peaks West   \n",
       "3         4        Anza Vista  6a    District 6 - Central North   \n",
       "4         5      Alamo Square  6e    District 6 - Central North   \n",
       "\n",
       "     Shape__Area  Shape__Length  ORIG_FID  \\\n",
       "0  390698.472656    2537.859137        45   \n",
       "1  368775.332031    2554.749361        38   \n",
       "2  349939.445312    2597.270308         3   \n",
       "3  463146.500000    2829.807921         2   \n",
       "4  520422.613281    3166.780152         1   \n",
       "\n",
       "                                               SHAPE             x  \\\n",
       "0  {\"x\": -13634243.1132, \"y\": 4541761.690399997, ... -1.363424e+07   \n",
       "1  {\"x\": -13632318.4792, \"y\": 4541732.381499998, ... -1.363232e+07   \n",
       "2  {\"x\": -13633126.561, \"y\": 4541549.568400003, \"... -1.363313e+07   \n",
       "3  {\"x\": -13630331.681, \"y\": 4548535.272500001, \"... -1.363033e+07   \n",
       "4  {\"x\": -13629342.3257, \"y\": 4547909.964900002, ... -1.362934e+07   \n",
       "\n",
       "              y  spatialReference.wkid  spatialReference.latestWkid  \n",
       "0  4.541762e+06                 102100                         3857  \n",
       "1  4.541732e+06                 102100                         3857  \n",
       "2  4.541550e+06                 102100                         3857  \n",
       "3  4.548535e+06                 102100                         3857  \n",
       "4  4.547910e+06                 102100                         3857  "
      ]
     },
     "execution_count": 199,
     "metadata": {},
     "output_type": "execute_result"
    }
   ],
   "source": [
    "#Merge normalized coordinate df with neighborhood df\n",
    "sfd=sfd.merge(coords,left_index=True,right_index=True)\n",
    "\n",
    "sfd=sfd.drop(columns={'OBJECTID','nid','Shape__Area','Shape__Length','ORIG_FID','SHAPE','spatialReference.wkid','spatialReference.latestWkid'})\n",
    "\n",
    "sfd=sfd.rename(columns={'nbrhood':'Neighborhood','sfar_distr':'Borough'})\n",
    "sfd.head()"
   ]
  },
  {
   "cell_type": "code",
   "execution_count": 205,
   "metadata": {},
   "outputs": [],
   "source": [
    "sfd.to_csv(r'C:/Users/schne/Desktop/IBM Data Science Certification/Python v2/Applied Data Science Capstone/Notebooks/Cities/San Francisco/sanfran_data.csv')"
   ]
  },
  {
   "cell_type": "code",
   "execution_count": null,
   "metadata": {},
   "outputs": [],
   "source": []
  }
 ],
 "metadata": {
  "kernelspec": {
   "display_name": "Python 3",
   "language": "python",
   "name": "python3"
  },
  "language_info": {
   "codemirror_mode": {
    "name": "ipython",
    "version": 3
   },
   "file_extension": ".py",
   "mimetype": "text/x-python",
   "name": "python",
   "nbconvert_exporter": "python",
   "pygments_lexer": "ipython3",
   "version": "3.8.5"
  }
 },
 "nbformat": 4,
 "nbformat_minor": 4
}
