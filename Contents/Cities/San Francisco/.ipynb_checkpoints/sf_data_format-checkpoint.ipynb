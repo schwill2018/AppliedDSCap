{
 "cells": [
  {
   "cell_type": "code",
   "execution_count": 1,
   "metadata": {},
   "outputs": [],
   "source": [
    "#!pip install shapely\n",
    "import pandas as pd\n",
    "pd.set_option('display.max_columns', None)\n",
    "pd.set_option('display.max_rows', None)\n",
    "from arcgis.gis import GIS\n",
    "from arcgis.features import analysis\n",
    "from arcgis.features import GeoAccessor, GeoSeriesAccessor, FeatureLayer\n",
    "from arcgis import geometry\n",
    "import arcgis.gis\n",
    "from arcgis.geometry import Geometry\n",
    "from arcgis import env\n",
    "from arcgis import geometry\n",
    "from arcgis.geometry import Point\n",
    "from arcgis.geometry import SpatialReference\n",
    "from arcgis.geoenrichment import *\n",
    "arcgis.env.out_spatial_reference = 4326\n",
    "arcgis.env.process_spatial_reference =4326\n",
    "import json\n",
    "import pyproj\n",
    "from pyproj import Proj"
   ]
  },
  {
   "cell_type": "code",
   "execution_count": 2,
   "metadata": {},
   "outputs": [],
   "source": [
    "### Open arcgis Credentials\n",
    "with open (r'C:\\Users\\schne\\Desktop\\IBM Data Science Certification\\Python v2\\Applied Data Science Capstone\\arcgiscreds.json') as f:\n",
    "    data = json.load(f)\n",
    "    arcgis_creds = {'url':data['url'],'Username':data['Username'],'Password':data['Password']}\n",
    "\n",
    "gis = GIS(arcgis_creds['url'],arcgis_creds['Username'],arcgis_creds['Password'])"
   ]
  },
  {
   "cell_type": "markdown",
   "metadata": {},
   "source": [
    "## The code below loads spatial data into a Spatial Dataframe via ArcGIS. since this is an upload code to bring the data onto a mapping server, this code will only execute once, and cannot be re-reun after execution.\n",
    "### Keep this in mind and be sure of all your item names after code execution, as is it hard difficult to undo, or requires addtional code that wasn not needed for this analysis.\n",
    "#### Just convert this cell from markdown and the code will be ready to run\n",
    "sf_nbrhd = {\n",
    "    'title': 'San Francisco Neighborhoods',\n",
    "    'tags': 'san fran, open data, neighborhoods',\n",
    "    'type': 'Shapefile'\n",
    "}\n",
    "\n",
    "data_file_location = r'C:\\Users\\schne\\Desktop\\IBM Data Science Certification\\Python v2\\Applied Data Science Capstone\\Notebooks\\Data\\SanFran_Neighborhoods.zip'\n",
    "parks_shp = gis.content.add(sf_nbrhd, data=data_file_location)\n",
    "\n",
    " ####  You can now visualize the Item object `parks_shp` in rich HTML notation in your notebook.\n",
    "parks_shp\n",
    "\n",
    "sfn_feature_layer_item = parks_shp.publish()\n",
    "\n",
    "####  Then visualize the new feature layer\n",
    "sfn_feature_layer_item\n",
    "sfn_feature_layer_item.url"
   ]
  },
  {
   "cell_type": "code",
   "execution_count": 21,
   "metadata": {},
   "outputs": [
    {
     "data": {
      "text/plain": [
       "[<Item title:\"San Francisco Neighborhoods\" type:Feature Layer Collection owner:WWSscript>]"
      ]
     },
     "execution_count": 21,
     "metadata": {},
     "output_type": "execute_result"
    }
   ],
   "source": [
    "####  Query Neighborhood layer after loading to ArcGis\n",
    "search_results = gis.content.search(query='title: \"San Francisco Neighborhoods*\" AND type: \"Feature Service\"')\n",
    "search_results"
   ]
  },
  {
   "cell_type": "code",
   "execution_count": 22,
   "metadata": {},
   "outputs": [
    {
     "data": {
      "text/html": [
       "<div class=\"item_container\" style=\"height: auto; overflow: hidden; border: 1px solid #cfcfcf; border-radius: 2px; background: #f6fafa; line-height: 1.21429em; padding: 10px;\">\n",
       "                    <div class=\"item_left\" style=\"width: 210px; float: left;\">\n",
       "                       <a href='https://wwsscript.maps.arcgis.com/home/item.html?id=efa388847b5f4983b4378a051449b5d0' target='_blank'>\n",
       "                        <img src='http://static.arcgis.com/images/desktopapp.png' class=\"itemThumbnail\">\n",
       "                       </a>\n",
       "                    </div>\n",
       "\n",
       "                    <div class=\"item_right\"     style=\"float: none; width: auto; overflow: hidden;\">\n",
       "                        <a href='https://wwsscript.maps.arcgis.com/home/item.html?id=efa388847b5f4983b4378a051449b5d0' target='_blank'><b>San Fran Centroids</b>\n",
       "                        </a>\n",
       "                        <br/><img src='https://wwsscript.maps.arcgis.com/home/js/jsapi/esri/css/images/item_type_icons/featureshosted16.png' style=\"vertical-align:middle;\">Feature Layer Collection by WWSscript\n",
       "                        <br/>Last Modified: August 22, 2020\n",
       "                        <br/>0 comments, 0 views\n",
       "                    </div>\n",
       "                </div>\n",
       "                "
      ],
      "text/plain": [
       "<Item title:\"San Fran Centroids\" type:Feature Layer Collection owner:WWSscript>"
      ]
     },
     "execution_count": 22,
     "metadata": {},
     "output_type": "execute_result"
    }
   ],
   "source": [
    "#### Query Feature Layer from ArcGis Map repository\n",
    "\n",
    "#### Call query results to a feature item\n",
    "feature_service_item = search_results[0]\n",
    "\n",
    "#### Call feature item as feature layer\n",
    "feature_layer = feature_service_item.layers[0]\n",
    "feature_layer\n",
    "\n",
    "\n",
    "#### Create centroids from Neighborhood polygons\n",
    "sf_centroids = analysis.find_centroids(feature_layer,\n",
    "                          point_location=True,\n",
    "                          output_name='San Fran Centroids')\n",
    "sf_centroids"
   ]
  },
  {
   "cell_type": "code",
   "execution_count": 3,
   "metadata": {},
   "outputs": [
    {
     "data": {
      "text/plain": [
       "[<Item title:\"San Fran Centroids\" type:Feature Layer Collection owner:WWSscript>]"
      ]
     },
     "execution_count": 3,
     "metadata": {},
     "output_type": "execute_result"
    }
   ],
   "source": [
    "##Query centroid feature layer\n",
    "search_results_c = gis.content.search(query='title: \"San Fran centroids*\" AND type: \"Feature Service\"')\n",
    "search_results_c"
   ]
  },
  {
   "cell_type": "code",
   "execution_count": 4,
   "metadata": {},
   "outputs": [
    {
     "name": "stdout",
     "output_type": "stream",
     "text": [
      "<FeatureLayer url:\"https://services5.arcgis.com/qUtgcj6DJcxkeMSS/arcgis/rest/services/San Fran Centroids/FeatureServer/0\">\n"
     ]
    },
    {
     "data": {
      "text/html": [
       "<div>\n",
       "<style scoped>\n",
       "    .dataframe tbody tr th:only-of-type {\n",
       "        vertical-align: middle;\n",
       "    }\n",
       "\n",
       "    .dataframe tbody tr th {\n",
       "        vertical-align: top;\n",
       "    }\n",
       "\n",
       "    .dataframe thead th {\n",
       "        text-align: right;\n",
       "    }\n",
       "</style>\n",
       "<table border=\"1\" class=\"dataframe\">\n",
       "  <thead>\n",
       "    <tr style=\"text-align: right;\">\n",
       "      <th></th>\n",
       "      <th>OBJECTID</th>\n",
       "      <th>nbrhood</th>\n",
       "      <th>nid</th>\n",
       "      <th>sfar_distr</th>\n",
       "      <th>Shape__Area</th>\n",
       "      <th>Shape__Length</th>\n",
       "      <th>ORIG_FID</th>\n",
       "      <th>SHAPE</th>\n",
       "    </tr>\n",
       "  </thead>\n",
       "  <tbody>\n",
       "    <tr>\n",
       "      <th>0</th>\n",
       "      <td>1</td>\n",
       "      <td>Merced Manor</td>\n",
       "      <td>3f</td>\n",
       "      <td>District 3 - Southwest</td>\n",
       "      <td>390698.472656</td>\n",
       "      <td>2537.859137</td>\n",
       "      <td>45</td>\n",
       "      <td>{\"x\": -122.47848975999995, \"y\": 37.73289811600...</td>\n",
       "    </tr>\n",
       "    <tr>\n",
       "      <th>1</th>\n",
       "      <td>2</td>\n",
       "      <td>Monterey Heights</td>\n",
       "      <td>4m</td>\n",
       "      <td>District 4 - Twin Peaks West</td>\n",
       "      <td>368775.332031</td>\n",
       "      <td>2554.749361</td>\n",
       "      <td>38</td>\n",
       "      <td>{\"x\": -122.46120047599999, \"y\": 37.73268986700...</td>\n",
       "    </tr>\n",
       "    <tr>\n",
       "      <th>2</th>\n",
       "      <td>3</td>\n",
       "      <td>Balboa Terrace</td>\n",
       "      <td>4a</td>\n",
       "      <td>District 4 - Twin Peaks West</td>\n",
       "      <td>349939.445312</td>\n",
       "      <td>2597.270308</td>\n",
       "      <td>3</td>\n",
       "      <td>{\"x\": -122.46845959699999, \"y\": 37.73139107400...</td>\n",
       "    </tr>\n",
       "    <tr>\n",
       "      <th>3</th>\n",
       "      <td>4</td>\n",
       "      <td>Anza Vista</td>\n",
       "      <td>6a</td>\n",
       "      <td>District 6 - Central North</td>\n",
       "      <td>463146.500000</td>\n",
       "      <td>2829.807921</td>\n",
       "      <td>2</td>\n",
       "      <td>{\"x\": -122.44335277599998, \"y\": 37.78100556800...</td>\n",
       "    </tr>\n",
       "    <tr>\n",
       "      <th>4</th>\n",
       "      <td>5</td>\n",
       "      <td>Alamo Square</td>\n",
       "      <td>6e</td>\n",
       "      <td>District 6 - Central North</td>\n",
       "      <td>520422.613281</td>\n",
       "      <td>3166.780152</td>\n",
       "      <td>1</td>\n",
       "      <td>{\"x\": -122.43446523499995, \"y\": 37.77656580100...</td>\n",
       "    </tr>\n",
       "  </tbody>\n",
       "</table>\n",
       "</div>"
      ],
      "text/plain": [
       "   OBJECTID           nbrhood nid                    sfar_distr  \\\n",
       "0         1      Merced Manor  3f        District 3 - Southwest   \n",
       "1         2  Monterey Heights  4m  District 4 - Twin Peaks West   \n",
       "2         3    Balboa Terrace  4a  District 4 - Twin Peaks West   \n",
       "3         4        Anza Vista  6a    District 6 - Central North   \n",
       "4         5      Alamo Square  6e    District 6 - Central North   \n",
       "\n",
       "     Shape__Area  Shape__Length  ORIG_FID  \\\n",
       "0  390698.472656    2537.859137        45   \n",
       "1  368775.332031    2554.749361        38   \n",
       "2  349939.445312    2597.270308         3   \n",
       "3  463146.500000    2829.807921         2   \n",
       "4  520422.613281    3166.780152         1   \n",
       "\n",
       "                                               SHAPE  \n",
       "0  {\"x\": -122.47848975999995, \"y\": 37.73289811600...  \n",
       "1  {\"x\": -122.46120047599999, \"y\": 37.73268986700...  \n",
       "2  {\"x\": -122.46845959699999, \"y\": 37.73139107400...  \n",
       "3  {\"x\": -122.44335277599998, \"y\": 37.78100556800...  \n",
       "4  {\"x\": -122.43446523499995, \"y\": 37.77656580100...  "
      ]
     },
     "execution_count": 4,
     "metadata": {},
     "output_type": "execute_result"
    }
   ],
   "source": [
    "###Query centroid (feature) Layer from ArcGis Map repository\n",
    "\n",
    "##Call query results to a feature item\n",
    "feature_service_centroid = search_results_c[0]\n",
    "centroid_layer = feature_service_centroid.layers[0]\n",
    "print(centroid_layer)\n",
    "\n",
    "##Convert layer to dataframe\n",
    "sdf = pd.DataFrame.spatial.from_layer(centroid_layer)\n",
    "sdf.head()"
   ]
  },
  {
   "cell_type": "code",
   "execution_count": 5,
   "metadata": {},
   "outputs": [
    {
     "name": "stdout",
     "output_type": "stream",
     "text": [
      "(92, 8)\n"
     ]
    },
    {
     "data": {
      "text/html": [
       "<div>\n",
       "<style scoped>\n",
       "    .dataframe tbody tr th:only-of-type {\n",
       "        vertical-align: middle;\n",
       "    }\n",
       "\n",
       "    .dataframe tbody tr th {\n",
       "        vertical-align: top;\n",
       "    }\n",
       "\n",
       "    .dataframe thead th {\n",
       "        text-align: right;\n",
       "    }\n",
       "</style>\n",
       "<table border=\"1\" class=\"dataframe\">\n",
       "  <thead>\n",
       "    <tr style=\"text-align: right;\">\n",
       "      <th></th>\n",
       "      <th>OBJECTID</th>\n",
       "      <th>nbrhood</th>\n",
       "      <th>nid</th>\n",
       "      <th>sfar_distr</th>\n",
       "      <th>Shape__Area</th>\n",
       "      <th>Shape__Length</th>\n",
       "      <th>ORIG_FID</th>\n",
       "      <th>SHAPE</th>\n",
       "    </tr>\n",
       "  </thead>\n",
       "  <tbody>\n",
       "    <tr>\n",
       "      <th>0</th>\n",
       "      <td>1</td>\n",
       "      <td>Merced Manor</td>\n",
       "      <td>3f</td>\n",
       "      <td>District 3 - Southwest</td>\n",
       "      <td>390698.472656</td>\n",
       "      <td>2537.859137</td>\n",
       "      <td>45</td>\n",
       "      <td>{\"x\": -122.47848975999995, \"y\": 37.73289811600...</td>\n",
       "    </tr>\n",
       "    <tr>\n",
       "      <th>1</th>\n",
       "      <td>2</td>\n",
       "      <td>Monterey Heights</td>\n",
       "      <td>4m</td>\n",
       "      <td>District 4 - Twin Peaks West</td>\n",
       "      <td>368775.332031</td>\n",
       "      <td>2554.749361</td>\n",
       "      <td>38</td>\n",
       "      <td>{\"x\": -122.46120047599999, \"y\": 37.73268986700...</td>\n",
       "    </tr>\n",
       "    <tr>\n",
       "      <th>2</th>\n",
       "      <td>3</td>\n",
       "      <td>Balboa Terrace</td>\n",
       "      <td>4a</td>\n",
       "      <td>District 4 - Twin Peaks West</td>\n",
       "      <td>349939.445312</td>\n",
       "      <td>2597.270308</td>\n",
       "      <td>3</td>\n",
       "      <td>{\"x\": -122.46845959699999, \"y\": 37.73139107400...</td>\n",
       "    </tr>\n",
       "    <tr>\n",
       "      <th>3</th>\n",
       "      <td>4</td>\n",
       "      <td>Anza Vista</td>\n",
       "      <td>6a</td>\n",
       "      <td>District 6 - Central North</td>\n",
       "      <td>463146.500000</td>\n",
       "      <td>2829.807921</td>\n",
       "      <td>2</td>\n",
       "      <td>{\"x\": -122.44335277599998, \"y\": 37.78100556800...</td>\n",
       "    </tr>\n",
       "    <tr>\n",
       "      <th>4</th>\n",
       "      <td>5</td>\n",
       "      <td>Alamo Square</td>\n",
       "      <td>6e</td>\n",
       "      <td>District 6 - Central North</td>\n",
       "      <td>520422.613281</td>\n",
       "      <td>3166.780152</td>\n",
       "      <td>1</td>\n",
       "      <td>{\"x\": -122.43446523499995, \"y\": 37.77656580100...</td>\n",
       "    </tr>\n",
       "  </tbody>\n",
       "</table>\n",
       "</div>"
      ],
      "text/plain": [
       "   OBJECTID           nbrhood nid                    sfar_distr  \\\n",
       "0         1      Merced Manor  3f        District 3 - Southwest   \n",
       "1         2  Monterey Heights  4m  District 4 - Twin Peaks West   \n",
       "2         3    Balboa Terrace  4a  District 4 - Twin Peaks West   \n",
       "3         4        Anza Vista  6a    District 6 - Central North   \n",
       "4         5      Alamo Square  6e    District 6 - Central North   \n",
       "\n",
       "     Shape__Area  Shape__Length  ORIG_FID  \\\n",
       "0  390698.472656    2537.859137        45   \n",
       "1  368775.332031    2554.749361        38   \n",
       "2  349939.445312    2597.270308         3   \n",
       "3  463146.500000    2829.807921         2   \n",
       "4  520422.613281    3166.780152         1   \n",
       "\n",
       "                                               SHAPE  \n",
       "0  {\"x\": -122.47848975999995, \"y\": 37.73289811600...  \n",
       "1  {\"x\": -122.46120047599999, \"y\": 37.73268986700...  \n",
       "2  {\"x\": -122.46845959699999, \"y\": 37.73139107400...  \n",
       "3  {\"x\": -122.44335277599998, \"y\": 37.78100556800...  \n",
       "4  {\"x\": -122.43446523499995, \"y\": 37.77656580100...  "
      ]
     },
     "execution_count": 5,
     "metadata": {},
     "output_type": "execute_result"
    }
   ],
   "source": [
    "#Construct as normal dataframe \"Dont think this is required\"\n",
    "sdf1= pd.DataFrame(sdf)\n",
    "sfd=sdf1.reset_index(drop=True)\n",
    "# Check df shape\n",
    "print(sfd.shape)\n",
    "sfd.head()"
   ]
  },
  {
   "cell_type": "code",
   "execution_count": 6,
   "metadata": {},
   "outputs": [
    {
     "name": "stdout",
     "output_type": "stream",
     "text": [
      "(92, 4)\n"
     ]
    },
    {
     "data": {
      "text/html": [
       "<div>\n",
       "<style scoped>\n",
       "    .dataframe tbody tr th:only-of-type {\n",
       "        vertical-align: middle;\n",
       "    }\n",
       "\n",
       "    .dataframe tbody tr th {\n",
       "        vertical-align: top;\n",
       "    }\n",
       "\n",
       "    .dataframe thead th {\n",
       "        text-align: right;\n",
       "    }\n",
       "</style>\n",
       "<table border=\"1\" class=\"dataframe\">\n",
       "  <thead>\n",
       "    <tr style=\"text-align: right;\">\n",
       "      <th></th>\n",
       "      <th>x</th>\n",
       "      <th>y</th>\n",
       "      <th>spatialReference.wkid</th>\n",
       "      <th>spatialReference.latestWkid</th>\n",
       "    </tr>\n",
       "  </thead>\n",
       "  <tbody>\n",
       "    <tr>\n",
       "      <th>0</th>\n",
       "      <td>-122.478490</td>\n",
       "      <td>37.732898</td>\n",
       "      <td>4326</td>\n",
       "      <td>4326</td>\n",
       "    </tr>\n",
       "    <tr>\n",
       "      <th>1</th>\n",
       "      <td>-122.461200</td>\n",
       "      <td>37.732690</td>\n",
       "      <td>4326</td>\n",
       "      <td>4326</td>\n",
       "    </tr>\n",
       "    <tr>\n",
       "      <th>2</th>\n",
       "      <td>-122.468460</td>\n",
       "      <td>37.731391</td>\n",
       "      <td>4326</td>\n",
       "      <td>4326</td>\n",
       "    </tr>\n",
       "    <tr>\n",
       "      <th>3</th>\n",
       "      <td>-122.443353</td>\n",
       "      <td>37.781006</td>\n",
       "      <td>4326</td>\n",
       "      <td>4326</td>\n",
       "    </tr>\n",
       "    <tr>\n",
       "      <th>4</th>\n",
       "      <td>-122.434465</td>\n",
       "      <td>37.776566</td>\n",
       "      <td>4326</td>\n",
       "      <td>4326</td>\n",
       "    </tr>\n",
       "  </tbody>\n",
       "</table>\n",
       "</div>"
      ],
      "text/plain": [
       "            x          y  spatialReference.wkid  spatialReference.latestWkid\n",
       "0 -122.478490  37.732898                   4326                         4326\n",
       "1 -122.461200  37.732690                   4326                         4326\n",
       "2 -122.468460  37.731391                   4326                         4326\n",
       "3 -122.443353  37.781006                   4326                         4326\n",
       "4 -122.434465  37.776566                   4326                         4326"
      ]
     },
     "execution_count": 6,
     "metadata": {},
     "output_type": "execute_result"
    }
   ],
   "source": [
    "#Convert coordinates into number format by normalizing json data\n",
    "coords=pd.json_normalize(sfd['SHAPE'])\n",
    "print(coords.shape)\n",
    "coords.head()"
   ]
  },
  {
   "cell_type": "code",
   "execution_count": 7,
   "metadata": {
    "scrolled": true
   },
   "outputs": [
    {
     "data": {
      "text/html": [
       "<div>\n",
       "<style scoped>\n",
       "    .dataframe tbody tr th:only-of-type {\n",
       "        vertical-align: middle;\n",
       "    }\n",
       "\n",
       "    .dataframe tbody tr th {\n",
       "        vertical-align: top;\n",
       "    }\n",
       "\n",
       "    .dataframe thead th {\n",
       "        text-align: right;\n",
       "    }\n",
       "</style>\n",
       "<table border=\"1\" class=\"dataframe\">\n",
       "  <thead>\n",
       "    <tr style=\"text-align: right;\">\n",
       "      <th></th>\n",
       "      <th>Neighborhood</th>\n",
       "      <th>Borough</th>\n",
       "      <th>Longitude</th>\n",
       "      <th>Latitude</th>\n",
       "    </tr>\n",
       "  </thead>\n",
       "  <tbody>\n",
       "    <tr>\n",
       "      <th>0</th>\n",
       "      <td>Merced Manor</td>\n",
       "      <td>District 3 - Southwest</td>\n",
       "      <td>-122.478490</td>\n",
       "      <td>37.732898</td>\n",
       "    </tr>\n",
       "    <tr>\n",
       "      <th>1</th>\n",
       "      <td>Monterey Heights</td>\n",
       "      <td>District 4 - Twin Peaks West</td>\n",
       "      <td>-122.461200</td>\n",
       "      <td>37.732690</td>\n",
       "    </tr>\n",
       "    <tr>\n",
       "      <th>2</th>\n",
       "      <td>Balboa Terrace</td>\n",
       "      <td>District 4 - Twin Peaks West</td>\n",
       "      <td>-122.468460</td>\n",
       "      <td>37.731391</td>\n",
       "    </tr>\n",
       "    <tr>\n",
       "      <th>3</th>\n",
       "      <td>Anza Vista</td>\n",
       "      <td>District 6 - Central North</td>\n",
       "      <td>-122.443353</td>\n",
       "      <td>37.781006</td>\n",
       "    </tr>\n",
       "    <tr>\n",
       "      <th>4</th>\n",
       "      <td>Alamo Square</td>\n",
       "      <td>District 6 - Central North</td>\n",
       "      <td>-122.434465</td>\n",
       "      <td>37.776566</td>\n",
       "    </tr>\n",
       "  </tbody>\n",
       "</table>\n",
       "</div>"
      ],
      "text/plain": [
       "       Neighborhood                       Borough   Longitude   Latitude\n",
       "0      Merced Manor        District 3 - Southwest -122.478490  37.732898\n",
       "1  Monterey Heights  District 4 - Twin Peaks West -122.461200  37.732690\n",
       "2    Balboa Terrace  District 4 - Twin Peaks West -122.468460  37.731391\n",
       "3        Anza Vista    District 6 - Central North -122.443353  37.781006\n",
       "4      Alamo Square    District 6 - Central North -122.434465  37.776566"
      ]
     },
     "execution_count": 7,
     "metadata": {},
     "output_type": "execute_result"
    }
   ],
   "source": [
    "#Merge normalized coordinate df with neighborhood df\n",
    "sfd=sfd.merge(coords,left_index=True,right_index=True)\n",
    "\n",
    "sfd=sfd.drop(columns={'OBJECTID','nid','Shape__Area','Shape__Length','ORIG_FID','SHAPE','spatialReference.wkid','spatialReference.latestWkid'})\n",
    "\n",
    "sfd=sfd.rename(columns={'nbrhood':'Neighborhood','sfar_distr':'Borough','x':'Longitude','y':'Latitude'})\n",
    "sfd.head()"
   ]
  },
  {
   "cell_type": "code",
   "execution_count": 27,
   "metadata": {},
   "outputs": [],
   "source": [
    "# Add Other Information to help identify location during analysis and visualization\n",
    "\n",
    "sfd1=sfd.assign(City = 'San Francisco'+', '+'California')"
   ]
  },
  {
   "cell_type": "code",
   "execution_count": 28,
   "metadata": {},
   "outputs": [],
   "source": [
    "sfd1.to_csv(r'C:/Users/schne/Desktop/IBM Data Science Certification/Python v2/Applied Data Science Capstone/Notebooks/Cities/San Francisco/sanfran_data.csv')"
   ]
  },
  {
   "cell_type": "code",
   "execution_count": null,
   "metadata": {},
   "outputs": [],
   "source": []
  }
 ],
 "metadata": {
  "kernelspec": {
   "display_name": "Python 3",
   "language": "python",
   "name": "python3"
  },
  "language_info": {
   "codemirror_mode": {
    "name": "ipython",
    "version": 3
   },
   "file_extension": ".py",
   "mimetype": "text/x-python",
   "name": "python",
   "nbconvert_exporter": "python",
   "pygments_lexer": "ipython3",
   "version": "3.8.5"
  }
 },
 "nbformat": 4,
 "nbformat_minor": 4
}
