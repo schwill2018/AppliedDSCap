{
 "cells": [
  {
   "cell_type": "code",
   "execution_count": 8,
   "metadata": {},
   "outputs": [],
   "source": [
    "#!pip install shapely\n",
    "import pandas as pd\n",
    "pd.set_option('display.max_columns', None)\n",
    "pd.set_option('display.max_rows', None)\n",
    "from arcgis.gis import GIS\n",
    "from arcgis.features import analysis\n",
    "from arcgis.features import GeoAccessor, GeoSeriesAccessor, FeatureLayer\n",
    "from arcgis import geometry\n",
    "import arcgis.gis\n",
    "from arcgis.geometry import Geometry\n",
    "from arcgis import env\n",
    "from arcgis import geometry\n",
    "from arcgis.geometry import Point\n",
    "from arcgis.geometry import SpatialReference\n",
    "from arcgis.geoenrichment import *\n",
    "arcgis.env.out_spatial_reference = 4326\n",
    "arcgis.env.process_spatial_reference =4326\n",
    "import json\n",
    "import pyproj\n",
    "from pyproj import Proj\n",
    "\n",
    "### Open arcgis Credentials\n",
    "with open (r'C:\\Users\\schne\\Desktop\\IBM Data Science Certification\\Python v2\\Applied Data Science Capstone\\arcgiscreds.json') as f:\n",
    "    data = json.load(f)\n",
    "    arcgis_creds = {'url':data['url'],'Username':data['Username'],'Password':data['Password']}\n",
    "\n",
    "gis = GIS(arcgis_creds['url'],arcgis_creds['Username'],arcgis_creds['Password'])"
   ]
  },
  {
   "cell_type": "code",
   "execution_count": 242,
   "metadata": {
    "scrolled": true
   },
   "outputs": [
    {
     "ename": "Exception",
     "evalue": "Item 'Chicago_Neighborhoods.zip' already exists.\n(Error Code: 409)",
     "output_type": "error",
     "traceback": [
      "\u001b[1;31m---------------------------------------------------------------------------\u001b[0m",
      "\u001b[1;31mException\u001b[0m                                 Traceback (most recent call last)",
      "\u001b[1;32m<ipython-input-242-45aaffc32cfe>\u001b[0m in \u001b[0;36m<module>\u001b[1;34m\u001b[0m\n\u001b[0;32m      6\u001b[0m \u001b[1;33m\u001b[0m\u001b[0m\n\u001b[0;32m      7\u001b[0m \u001b[0mdata_file_location\u001b[0m \u001b[1;33m=\u001b[0m \u001b[1;34mr'C:\\Users\\schne\\Desktop\\IBM Data Science Certification\\Python v2\\Applied Data Science Capstone\\Notebooks\\Data\\Chicago_Neighborhoods.zip'\u001b[0m\u001b[1;33m\u001b[0m\u001b[1;33m\u001b[0m\u001b[0m\n\u001b[1;32m----> 8\u001b[1;33m \u001b[0mchn_shp\u001b[0m \u001b[1;33m=\u001b[0m \u001b[0mgis\u001b[0m\u001b[1;33m.\u001b[0m\u001b[0mcontent\u001b[0m\u001b[1;33m.\u001b[0m\u001b[0madd\u001b[0m\u001b[1;33m(\u001b[0m\u001b[0mchi_nbrhd\u001b[0m\u001b[1;33m,\u001b[0m \u001b[0mdata\u001b[0m\u001b[1;33m=\u001b[0m\u001b[0mdata_file_location\u001b[0m\u001b[1;33m)\u001b[0m\u001b[1;33m\u001b[0m\u001b[1;33m\u001b[0m\u001b[0m\n\u001b[0m\u001b[0;32m      9\u001b[0m \u001b[1;33m\u001b[0m\u001b[0m\n\u001b[0;32m     10\u001b[0m \u001b[0mchn_shp\u001b[0m\u001b[1;33m\u001b[0m\u001b[1;33m\u001b[0m\u001b[0m\n",
      "\u001b[1;32m~\\anaconda3\\lib\\site-packages\\arcgis\\gis\\__init__.py\u001b[0m in \u001b[0;36madd\u001b[1;34m(self, item_properties, data, thumbnail, metadata, owner, folder, item_id)\u001b[0m\n\u001b[0;32m   3989\u001b[0m                 \u001b[0mitem_properties\u001b[0m\u001b[1;33m[\u001b[0m\u001b[1;34m'fileName'\u001b[0m\u001b[1;33m]\u001b[0m \u001b[1;33m=\u001b[0m \u001b[0mos\u001b[0m\u001b[1;33m.\u001b[0m\u001b[0mpath\u001b[0m\u001b[1;33m.\u001b[0m\u001b[0mbasename\u001b[0m\u001b[1;33m(\u001b[0m\u001b[0mdata\u001b[0m\u001b[1;33m)\u001b[0m\u001b[1;33m\u001b[0m\u001b[1;33m\u001b[0m\u001b[0m\n\u001b[0;32m   3990\u001b[0m \u001b[1;33m\u001b[0m\u001b[0m\n\u001b[1;32m-> 3991\u001b[1;33m             itemid = self._portal.add_item(item_properties, data,\n\u001b[0m\u001b[0;32m   3992\u001b[0m                                            \u001b[0mthumbnail\u001b[0m\u001b[1;33m,\u001b[0m \u001b[0mmetadata\u001b[0m\u001b[1;33m,\u001b[0m\u001b[1;33m\u001b[0m\u001b[1;33m\u001b[0m\u001b[0m\n\u001b[0;32m   3993\u001b[0m                                            owner_name, folder)\n",
      "\u001b[1;32m~\\anaconda3\\lib\\site-packages\\arcgis\\gis\\_impl\\_portalpy.py\u001b[0m in \u001b[0;36madd_item\u001b[1;34m(self, item_properties, data, thumbnail, metadata, owner, folder)\u001b[0m\n\u001b[0;32m    324\u001b[0m \u001b[1;33m\u001b[0m\u001b[0m\n\u001b[0;32m    325\u001b[0m         \u001b[0mpath\u001b[0m \u001b[1;33m+=\u001b[0m \u001b[1;34m'/addItem'\u001b[0m\u001b[1;33m\u001b[0m\u001b[1;33m\u001b[0m\u001b[0m\n\u001b[1;32m--> 326\u001b[1;33m         \u001b[0mresp\u001b[0m \u001b[1;33m=\u001b[0m \u001b[0mself\u001b[0m\u001b[1;33m.\u001b[0m\u001b[0mcon\u001b[0m\u001b[1;33m.\u001b[0m\u001b[0mpost\u001b[0m\u001b[1;33m(\u001b[0m\u001b[0mpath\u001b[0m\u001b[1;33m,\u001b[0m \u001b[0mpostdata\u001b[0m\u001b[1;33m,\u001b[0m \u001b[0mfiles\u001b[0m\u001b[1;33m)\u001b[0m\u001b[1;33m\u001b[0m\u001b[1;33m\u001b[0m\u001b[0m\n\u001b[0m\u001b[0;32m    327\u001b[0m         \u001b[1;32mif\u001b[0m \u001b[0mresp\u001b[0m \u001b[1;32mand\u001b[0m \u001b[0mresp\u001b[0m\u001b[1;33m.\u001b[0m\u001b[0mget\u001b[0m\u001b[1;33m(\u001b[0m\u001b[1;34m'success'\u001b[0m\u001b[1;33m)\u001b[0m\u001b[1;33m:\u001b[0m\u001b[1;33m\u001b[0m\u001b[1;33m\u001b[0m\u001b[0m\n\u001b[0;32m    328\u001b[0m             \u001b[1;32mreturn\u001b[0m \u001b[0mresp\u001b[0m\u001b[1;33m[\u001b[0m\u001b[1;34m'id'\u001b[0m\u001b[1;33m]\u001b[0m\u001b[1;33m\u001b[0m\u001b[1;33m\u001b[0m\u001b[0m\n",
      "\u001b[1;32m~\\anaconda3\\lib\\site-packages\\arcgis\\gis\\_impl\\_con\\_connection.py\u001b[0m in \u001b[0;36mpost\u001b[1;34m(self, path, params, files, **kwargs)\u001b[0m\n\u001b[0;32m    704\u001b[0m                 'An unknown error occurred: %s' % traceback.format_exc())\n\u001b[0;32m    705\u001b[0m \u001b[1;33m\u001b[0m\u001b[0m\n\u001b[1;32m--> 706\u001b[1;33m         return self._handle_response(resp=resp,\n\u001b[0m\u001b[0;32m    707\u001b[0m                                      \u001b[0mout_path\u001b[0m\u001b[1;33m=\u001b[0m\u001b[0mout_path\u001b[0m\u001b[1;33m,\u001b[0m\u001b[1;33m\u001b[0m\u001b[1;33m\u001b[0m\u001b[0m\n\u001b[0;32m    708\u001b[0m                                      \u001b[0mfile_name\u001b[0m\u001b[1;33m=\u001b[0m\u001b[0mfile_name\u001b[0m\u001b[1;33m,\u001b[0m\u001b[1;33m\u001b[0m\u001b[1;33m\u001b[0m\u001b[0m\n",
      "\u001b[1;32m~\\anaconda3\\lib\\site-packages\\arcgis\\gis\\_impl\\_con\\_connection.py\u001b[0m in \u001b[0;36m_handle_response\u001b[1;34m(self, resp, file_name, out_path, try_json, force_bytes)\u001b[0m\n\u001b[0;32m    503\u001b[0m             \u001b[1;32mif\u001b[0m \u001b[1;34m'error'\u001b[0m \u001b[1;32min\u001b[0m \u001b[0mdata\u001b[0m\u001b[1;33m:\u001b[0m\u001b[1;33m\u001b[0m\u001b[1;33m\u001b[0m\u001b[0m\n\u001b[0;32m    504\u001b[0m                 \u001b[0merrorcode\u001b[0m \u001b[1;33m=\u001b[0m \u001b[0mdata\u001b[0m\u001b[1;33m[\u001b[0m\u001b[1;34m'error'\u001b[0m\u001b[1;33m]\u001b[0m\u001b[1;33m[\u001b[0m\u001b[1;34m'code'\u001b[0m\u001b[1;33m]\u001b[0m \u001b[1;32mif\u001b[0m \u001b[1;34m'code'\u001b[0m \u001b[1;32min\u001b[0m \u001b[0mdata\u001b[0m\u001b[1;33m[\u001b[0m\u001b[1;34m'error'\u001b[0m\u001b[1;33m]\u001b[0m \u001b[1;32melse\u001b[0m \u001b[1;36m0\u001b[0m\u001b[1;33m\u001b[0m\u001b[1;33m\u001b[0m\u001b[0m\n\u001b[1;32m--> 505\u001b[1;33m                 \u001b[0mself\u001b[0m\u001b[1;33m.\u001b[0m\u001b[0m_handle_json_error\u001b[0m\u001b[1;33m(\u001b[0m\u001b[0mdata\u001b[0m\u001b[1;33m[\u001b[0m\u001b[1;34m'error'\u001b[0m\u001b[1;33m]\u001b[0m\u001b[1;33m,\u001b[0m \u001b[0merrorcode\u001b[0m\u001b[1;33m)\u001b[0m\u001b[1;33m\u001b[0m\u001b[1;33m\u001b[0m\u001b[0m\n\u001b[0m\u001b[0;32m    506\u001b[0m             \u001b[1;32mreturn\u001b[0m \u001b[0mdata\u001b[0m\u001b[1;33m\u001b[0m\u001b[1;33m\u001b[0m\u001b[0m\n\u001b[0;32m    507\u001b[0m         \u001b[1;32melse\u001b[0m\u001b[1;33m:\u001b[0m\u001b[1;33m\u001b[0m\u001b[1;33m\u001b[0m\u001b[0m\n",
      "\u001b[1;32m~\\anaconda3\\lib\\site-packages\\arcgis\\gis\\_impl\\_con\\_connection.py\u001b[0m in \u001b[0;36m_handle_json_error\u001b[1;34m(self, error, errorcode)\u001b[0m\n\u001b[0;32m    521\u001b[0m \u001b[1;33m\u001b[0m\u001b[0m\n\u001b[0;32m    522\u001b[0m         \u001b[0merrormessage\u001b[0m \u001b[1;33m=\u001b[0m \u001b[0merrormessage\u001b[0m \u001b[1;33m+\u001b[0m \u001b[1;34m\"\\n(Error Code: \"\u001b[0m \u001b[1;33m+\u001b[0m \u001b[0mstr\u001b[0m\u001b[1;33m(\u001b[0m\u001b[0merrorcode\u001b[0m\u001b[1;33m)\u001b[0m \u001b[1;33m+\u001b[0m\u001b[1;34m\")\"\u001b[0m\u001b[1;33m\u001b[0m\u001b[1;33m\u001b[0m\u001b[0m\n\u001b[1;32m--> 523\u001b[1;33m         \u001b[1;32mraise\u001b[0m \u001b[0mException\u001b[0m\u001b[1;33m(\u001b[0m\u001b[0merrormessage\u001b[0m\u001b[1;33m)\u001b[0m\u001b[1;33m\u001b[0m\u001b[1;33m\u001b[0m\u001b[0m\n\u001b[0m\u001b[0;32m    524\u001b[0m     \u001b[1;31m#----------------------------------------------------------------------\u001b[0m\u001b[1;33m\u001b[0m\u001b[1;33m\u001b[0m\u001b[1;33m\u001b[0m\u001b[0m\n\u001b[0;32m    525\u001b[0m     def post(self,\n",
      "\u001b[1;31mException\u001b[0m: Item 'Chicago_Neighborhoods.zip' already exists.\n(Error Code: 409)"
     ]
    }
   ],
   "source": [
    "chi_nbrhd = {\n",
    "    'title': 'Chicago Neighborhoods',\n",
    "    'tags': 'chicago, open data, neighborhoods',\n",
    "    'type': 'Shapefile'\n",
    "}\n",
    "\n",
    "data_file_location = r'C:\\Users\\schne\\Desktop\\IBM Data Science Certification\\Python v2\\Applied Data Science Capstone\\Notebooks\\Data\\Chicago_Neighborhoods.zip'\n",
    "chn_shp = gis.content.add(chi_nbrhd, data=data_file_location)\n",
    "\n",
    "chn_shp\n",
    "\n",
    "chn_feature_layer_item = chn_shp.publish()\n",
    "\n",
    "chn_feature_layer_item.url"
   ]
  },
  {
   "cell_type": "code",
   "execution_count": 231,
   "metadata": {
    "scrolled": true
   },
   "outputs": [
    {
     "data": {
      "text/plain": [
       "[<Item title:\"Centroids_for_Chicago_Neighborhoods\" type:Feature Layer Collection owner:WWSscript>,\n",
       " <Item title:\"Chicago Neighborhoods\" type:Feature Layer Collection owner:WWSscript>]"
      ]
     },
     "execution_count": 231,
     "metadata": {},
     "output_type": "execute_result"
    }
   ],
   "source": [
    "#Query Neighborhood layer after loading to ArcGis\n",
    "search_results = gis.content.search(query='title: \"Chicago Neighborhoods*\" AND type: \"Feature Service\"')\n",
    "search_results"
   ]
  },
  {
   "cell_type": "code",
   "execution_count": 232,
   "metadata": {},
   "outputs": [
    {
     "data": {
      "text/html": [
       "<div class=\"item_container\" style=\"height: auto; overflow: hidden; border: 1px solid #cfcfcf; border-radius: 2px; background: #f6fafa; line-height: 1.21429em; padding: 10px;\">\n",
       "                    <div class=\"item_left\" style=\"width: 210px; float: left;\">\n",
       "                       <a href='https://wwsscript.maps.arcgis.com/home/item.html?id=406079aec1824369a615c1fb8406f9b5' target='_blank'>\n",
       "                        <img src='data:image/png;base64,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' width='200' height='133' class=\"itemThumbnail\">\n",
       "                       </a>\n",
       "                    </div>\n",
       "\n",
       "                    <div class=\"item_right\"     style=\"float: none; width: auto; overflow: hidden;\">\n",
       "                        <a href='https://wwsscript.maps.arcgis.com/home/item.html?id=406079aec1824369a615c1fb8406f9b5' target='_blank'><b>Chicago Neighborhoods</b>\n",
       "                        </a>\n",
       "                        <br/><img src='https://wwsscript.maps.arcgis.com/home/js/jsapi/esri/css/images/item_type_icons/featureshosted16.png' style=\"vertical-align:middle;\">Feature Layer Collection by WWSscript\n",
       "                        <br/>Last Modified: August 22, 2020\n",
       "                        <br/>0 comments, 2 views\n",
       "                    </div>\n",
       "                </div>\n",
       "                "
      ],
      "text/plain": [
       "<Item title:\"Chicago Neighborhoods\" type:Feature Layer Collection owner:WWSscript>"
      ]
     },
     "execution_count": 232,
     "metadata": {},
     "output_type": "execute_result"
    }
   ],
   "source": [
    "search_results[1]"
   ]
  },
  {
   "cell_type": "code",
   "execution_count": 233,
   "metadata": {},
   "outputs": [
    {
     "data": {
      "text/plain": [
       "<FeatureLayer url:\"https://services5.arcgis.com/qUtgcj6DJcxkeMSS/arcgis/rest/services/Chicago_Neighborhoods/FeatureServer/0\">"
      ]
     },
     "execution_count": 233,
     "metadata": {},
     "output_type": "execute_result"
    }
   ],
   "source": [
    "###Query Feature Layer from ArcGis Map repository\n",
    "\n",
    "##Call query results to a feature item\n",
    "feature_service_item = search_results[1]\n",
    "\n",
    "##Call feature item as feature layer\n",
    "feature_layer_1 = feature_service_item.layers[0]\n",
    "feature_layer_1\n"
   ]
  },
  {
   "cell_type": "code",
   "execution_count": 234,
   "metadata": {},
   "outputs": [
    {
     "data": {
      "text/html": [
       "<div class=\"item_container\" style=\"height: auto; overflow: hidden; border: 1px solid #cfcfcf; border-radius: 2px; background: #f6fafa; line-height: 1.21429em; padding: 10px;\">\n",
       "                    <div class=\"item_left\" style=\"width: 210px; float: left;\">\n",
       "                       <a href='https://wwsscript.maps.arcgis.com/home/item.html?id=c3c236268ab744f69290d67ed6f506a9' target='_blank'>\n",
       "                        <img src='http://static.arcgis.com/images/desktopapp.png' class=\"itemThumbnail\">\n",
       "                       </a>\n",
       "                    </div>\n",
       "\n",
       "                    <div class=\"item_right\"     style=\"float: none; width: auto; overflow: hidden;\">\n",
       "                        <a href='https://wwsscript.maps.arcgis.com/home/item.html?id=c3c236268ab744f69290d67ed6f506a9' target='_blank'><b>Chicago Centroids V2</b>\n",
       "                        </a>\n",
       "                        <br/><img src='https://wwsscript.maps.arcgis.com/home/js/jsapi/esri/css/images/item_type_icons/featureshosted16.png' style=\"vertical-align:middle;\">Feature Layer Collection by WWSscript\n",
       "                        <br/>Last Modified: August 22, 2020\n",
       "                        <br/>0 comments, 0 views\n",
       "                    </div>\n",
       "                </div>\n",
       "                "
      ],
      "text/plain": [
       "<Item title:\"Chicago Centroids V2\" type:Feature Layer Collection owner:WWSscript>"
      ]
     },
     "execution_count": 234,
     "metadata": {},
     "output_type": "execute_result"
    }
   ],
   "source": [
    "#Create centroids from Neighborhood polygons\n",
    "chi_centroids = analysis.find_centroids(feature_layer_1,\n",
    "                          point_location=True,\n",
    "                          output_name='Chicago Centroids V2')\n",
    "chi_centroids"
   ]
  },
  {
   "cell_type": "code",
   "execution_count": 9,
   "metadata": {},
   "outputs": [
    {
     "data": {
      "text/plain": [
       "[<Item title:\"Chicago Centroids\" type:Feature Layer Collection owner:WWSscript>,\n",
       " <Item title:\"Chicago Centroids V2\" type:Feature Layer Collection owner:WWSscript>]"
      ]
     },
     "execution_count": 9,
     "metadata": {},
     "output_type": "execute_result"
    }
   ],
   "source": [
    "##Query centroid feature layer\n",
    "search_results_c = gis.content.search(query='title: \"Chicago Centroids*\" AND type: \"Feature Service\"')\n",
    "search_results_c"
   ]
  },
  {
   "cell_type": "code",
   "execution_count": 10,
   "metadata": {},
   "outputs": [
    {
     "name": "stdout",
     "output_type": "stream",
     "text": [
      "<FeatureLayer url:\"https://services5.arcgis.com/qUtgcj6DJcxkeMSS/arcgis/rest/services/Chicago Centroids V2/FeatureServer/0\">\n"
     ]
    },
    {
     "data": {
      "text/html": [
       "<div>\n",
       "<style scoped>\n",
       "    .dataframe tbody tr th:only-of-type {\n",
       "        vertical-align: middle;\n",
       "    }\n",
       "\n",
       "    .dataframe tbody tr th {\n",
       "        vertical-align: top;\n",
       "    }\n",
       "\n",
       "    .dataframe thead th {\n",
       "        text-align: right;\n",
       "    }\n",
       "</style>\n",
       "<table border=\"1\" class=\"dataframe\">\n",
       "  <thead>\n",
       "    <tr style=\"text-align: right;\">\n",
       "      <th></th>\n",
       "      <th>OBJECTID</th>\n",
       "      <th>pri_neigh</th>\n",
       "      <th>sec_neigh</th>\n",
       "      <th>Shape__Area</th>\n",
       "      <th>Shape__Length</th>\n",
       "      <th>ORIG_FID</th>\n",
       "      <th>SHAPE</th>\n",
       "    </tr>\n",
       "  </thead>\n",
       "  <tbody>\n",
       "    <tr>\n",
       "      <th>0</th>\n",
       "      <td>1</td>\n",
       "      <td>Greektown</td>\n",
       "      <td>GREEKTOWN</td>\n",
       "      <td>276817.476562</td>\n",
       "      <td>2500.208582</td>\n",
       "      <td>31</td>\n",
       "      <td>{\"x\": -87.64712747399994, \"y\": 41.878544867000...</td>\n",
       "    </tr>\n",
       "    <tr>\n",
       "      <th>1</th>\n",
       "      <td>2</td>\n",
       "      <td>Printers Row</td>\n",
       "      <td>PRINTERS ROW</td>\n",
       "      <td>362509.203125</td>\n",
       "      <td>2813.388022</td>\n",
       "      <td>2</td>\n",
       "      <td>{\"x\": -87.62903477799995, \"y\": 41.870980683000...</td>\n",
       "    </tr>\n",
       "    <tr>\n",
       "      <th>2</th>\n",
       "      <td>3</td>\n",
       "      <td>Millenium Park</td>\n",
       "      <td>MILLENIUM PARK</td>\n",
       "      <td>465470.859375</td>\n",
       "      <td>3096.993789</td>\n",
       "      <td>67</td>\n",
       "      <td>{\"x\": -87.62037921899997, \"y\": 41.882774337000...</td>\n",
       "    </tr>\n",
       "    <tr>\n",
       "      <th>3</th>\n",
       "      <td>4</td>\n",
       "      <td>Rush &amp; Division</td>\n",
       "      <td>RUSH &amp; DIVISION</td>\n",
       "      <td>585584.511719</td>\n",
       "      <td>3485.722820</td>\n",
       "      <td>46</td>\n",
       "      <td>{\"x\": -87.62906839999994, \"y\": 41.899235605000...</td>\n",
       "    </tr>\n",
       "    <tr>\n",
       "      <th>4</th>\n",
       "      <td>5</td>\n",
       "      <td>Magnificent Mile</td>\n",
       "      <td>STREETERVILLE</td>\n",
       "      <td>148055.453125</td>\n",
       "      <td>3756.172049</td>\n",
       "      <td>37</td>\n",
       "      <td>{\"x\": -87.62418781399998, \"y\": 41.894783957000...</td>\n",
       "    </tr>\n",
       "  </tbody>\n",
       "</table>\n",
       "</div>"
      ],
      "text/plain": [
       "   OBJECTID         pri_neigh        sec_neigh    Shape__Area  Shape__Length  \\\n",
       "0         1         Greektown        GREEKTOWN  276817.476562    2500.208582   \n",
       "1         2      Printers Row     PRINTERS ROW  362509.203125    2813.388022   \n",
       "2         3    Millenium Park   MILLENIUM PARK  465470.859375    3096.993789   \n",
       "3         4   Rush & Division  RUSH & DIVISION  585584.511719    3485.722820   \n",
       "4         5  Magnificent Mile    STREETERVILLE  148055.453125    3756.172049   \n",
       "\n",
       "   ORIG_FID                                              SHAPE  \n",
       "0        31  {\"x\": -87.64712747399994, \"y\": 41.878544867000...  \n",
       "1         2  {\"x\": -87.62903477799995, \"y\": 41.870980683000...  \n",
       "2        67  {\"x\": -87.62037921899997, \"y\": 41.882774337000...  \n",
       "3        46  {\"x\": -87.62906839999994, \"y\": 41.899235605000...  \n",
       "4        37  {\"x\": -87.62418781399998, \"y\": 41.894783957000...  "
      ]
     },
     "execution_count": 10,
     "metadata": {},
     "output_type": "execute_result"
    }
   ],
   "source": [
    "###Query centroid (feature) Layer from ArcGis Map repository\n",
    "\n",
    "##Call query results to a feature item\n",
    "feature_service_centroid = search_results_c[1]\n",
    "centroid_layer = feature_service_centroid.layers[0]\n",
    "print(centroid_layer)\n",
    "\n",
    "##Convert layer to dataframe\n",
    "chi_sdf = pd.DataFrame.spatial.from_layer(centroid_layer)\n",
    "chi_sdf.head()"
   ]
  },
  {
   "cell_type": "code",
   "execution_count": 11,
   "metadata": {},
   "outputs": [
    {
     "name": "stdout",
     "output_type": "stream",
     "text": [
      "(98, 7)\n"
     ]
    },
    {
     "data": {
      "text/html": [
       "<div>\n",
       "<style scoped>\n",
       "    .dataframe tbody tr th:only-of-type {\n",
       "        vertical-align: middle;\n",
       "    }\n",
       "\n",
       "    .dataframe tbody tr th {\n",
       "        vertical-align: top;\n",
       "    }\n",
       "\n",
       "    .dataframe thead th {\n",
       "        text-align: right;\n",
       "    }\n",
       "</style>\n",
       "<table border=\"1\" class=\"dataframe\">\n",
       "  <thead>\n",
       "    <tr style=\"text-align: right;\">\n",
       "      <th></th>\n",
       "      <th>OBJECTID</th>\n",
       "      <th>pri_neigh</th>\n",
       "      <th>sec_neigh</th>\n",
       "      <th>Shape__Area</th>\n",
       "      <th>Shape__Length</th>\n",
       "      <th>ORIG_FID</th>\n",
       "      <th>SHAPE</th>\n",
       "    </tr>\n",
       "  </thead>\n",
       "  <tbody>\n",
       "    <tr>\n",
       "      <th>93</th>\n",
       "      <td>94</td>\n",
       "      <td>Hegewisch</td>\n",
       "      <td>SOUTHEAST SIDE</td>\n",
       "      <td>2.431362e+07</td>\n",
       "      <td>30084.004871</td>\n",
       "      <td>30</td>\n",
       "      <td>{\"x\": -87.54071503299997, \"y\": 41.663671257000...</td>\n",
       "    </tr>\n",
       "    <tr>\n",
       "      <th>94</th>\n",
       "      <td>95</td>\n",
       "      <td>Sauganash,Forest Glen</td>\n",
       "      <td>SAUGANASH,FOREST GLEN</td>\n",
       "      <td>1.500162e+07</td>\n",
       "      <td>30564.269366</td>\n",
       "      <td>51</td>\n",
       "      <td>{\"x\": -87.75835628899995, \"y\": 41.993930655000...</td>\n",
       "    </tr>\n",
       "    <tr>\n",
       "      <th>95</th>\n",
       "      <td>96</td>\n",
       "      <td>South Deering</td>\n",
       "      <td>SOUTHEAST SIDE</td>\n",
       "      <td>5.065101e+07</td>\n",
       "      <td>32841.546852</td>\n",
       "      <td>65</td>\n",
       "      <td>{\"x\": -87.57005674799996, \"y\": 41.690637013000...</td>\n",
       "    </tr>\n",
       "    <tr>\n",
       "      <th>96</th>\n",
       "      <td>97</td>\n",
       "      <td>Norwood Park</td>\n",
       "      <td>NORWOOD PARK</td>\n",
       "      <td>2.052154e+07</td>\n",
       "      <td>32964.391920</td>\n",
       "      <td>58</td>\n",
       "      <td>{\"x\": -87.80453105599997, \"y\": 41.985015190000...</td>\n",
       "    </tr>\n",
       "    <tr>\n",
       "      <th>97</th>\n",
       "      <td>98</td>\n",
       "      <td>O'Hare</td>\n",
       "      <td>OHARE</td>\n",
       "      <td>6.254948e+07</td>\n",
       "      <td>71225.544944</td>\n",
       "      <td>25</td>\n",
       "      <td>{\"x\": -87.91364653299996, \"y\": 41.980240032000...</td>\n",
       "    </tr>\n",
       "  </tbody>\n",
       "</table>\n",
       "</div>"
      ],
      "text/plain": [
       "    OBJECTID              pri_neigh              sec_neigh   Shape__Area  \\\n",
       "93        94              Hegewisch         SOUTHEAST SIDE  2.431362e+07   \n",
       "94        95  Sauganash,Forest Glen  SAUGANASH,FOREST GLEN  1.500162e+07   \n",
       "95        96          South Deering         SOUTHEAST SIDE  5.065101e+07   \n",
       "96        97           Norwood Park           NORWOOD PARK  2.052154e+07   \n",
       "97        98                 O'Hare                  OHARE  6.254948e+07   \n",
       "\n",
       "    Shape__Length  ORIG_FID                                              SHAPE  \n",
       "93   30084.004871        30  {\"x\": -87.54071503299997, \"y\": 41.663671257000...  \n",
       "94   30564.269366        51  {\"x\": -87.75835628899995, \"y\": 41.993930655000...  \n",
       "95   32841.546852        65  {\"x\": -87.57005674799996, \"y\": 41.690637013000...  \n",
       "96   32964.391920        58  {\"x\": -87.80453105599997, \"y\": 41.985015190000...  \n",
       "97   71225.544944        25  {\"x\": -87.91364653299996, \"y\": 41.980240032000...  "
      ]
     },
     "execution_count": 11,
     "metadata": {},
     "output_type": "execute_result"
    }
   ],
   "source": [
    "#Construct as normal dataframe \"Dont think this is required\"\n",
    "#sdf1= pd.DataFrame(sdf)\n",
    "chi_sdf=chi_sdf.reset_index(drop=True)\n",
    "# Check df shape\n",
    "print(chi_sdf.shape)\n",
    "chi_sdf.tail()"
   ]
  },
  {
   "cell_type": "code",
   "execution_count": 12,
   "metadata": {},
   "outputs": [
    {
     "name": "stdout",
     "output_type": "stream",
     "text": [
      "(98, 4)\n"
     ]
    },
    {
     "data": {
      "text/html": [
       "<div>\n",
       "<style scoped>\n",
       "    .dataframe tbody tr th:only-of-type {\n",
       "        vertical-align: middle;\n",
       "    }\n",
       "\n",
       "    .dataframe tbody tr th {\n",
       "        vertical-align: top;\n",
       "    }\n",
       "\n",
       "    .dataframe thead th {\n",
       "        text-align: right;\n",
       "    }\n",
       "</style>\n",
       "<table border=\"1\" class=\"dataframe\">\n",
       "  <thead>\n",
       "    <tr style=\"text-align: right;\">\n",
       "      <th></th>\n",
       "      <th>x</th>\n",
       "      <th>y</th>\n",
       "      <th>spatialReference.wkid</th>\n",
       "      <th>spatialReference.latestWkid</th>\n",
       "    </tr>\n",
       "  </thead>\n",
       "  <tbody>\n",
       "    <tr>\n",
       "      <th>0</th>\n",
       "      <td>-87.647127</td>\n",
       "      <td>41.878545</td>\n",
       "      <td>4326</td>\n",
       "      <td>4326</td>\n",
       "    </tr>\n",
       "    <tr>\n",
       "      <th>1</th>\n",
       "      <td>-87.629035</td>\n",
       "      <td>41.870981</td>\n",
       "      <td>4326</td>\n",
       "      <td>4326</td>\n",
       "    </tr>\n",
       "    <tr>\n",
       "      <th>2</th>\n",
       "      <td>-87.620379</td>\n",
       "      <td>41.882774</td>\n",
       "      <td>4326</td>\n",
       "      <td>4326</td>\n",
       "    </tr>\n",
       "    <tr>\n",
       "      <th>3</th>\n",
       "      <td>-87.629068</td>\n",
       "      <td>41.899236</td>\n",
       "      <td>4326</td>\n",
       "      <td>4326</td>\n",
       "    </tr>\n",
       "    <tr>\n",
       "      <th>4</th>\n",
       "      <td>-87.624188</td>\n",
       "      <td>41.894784</td>\n",
       "      <td>4326</td>\n",
       "      <td>4326</td>\n",
       "    </tr>\n",
       "  </tbody>\n",
       "</table>\n",
       "</div>"
      ],
      "text/plain": [
       "           x          y  spatialReference.wkid  spatialReference.latestWkid\n",
       "0 -87.647127  41.878545                   4326                         4326\n",
       "1 -87.629035  41.870981                   4326                         4326\n",
       "2 -87.620379  41.882774                   4326                         4326\n",
       "3 -87.629068  41.899236                   4326                         4326\n",
       "4 -87.624188  41.894784                   4326                         4326"
      ]
     },
     "execution_count": 12,
     "metadata": {},
     "output_type": "execute_result"
    }
   ],
   "source": [
    "#Convert coordinates into number format by normalizing json data\n",
    "coords=pd.json_normalize(chi_sdf['SHAPE'])\n",
    "print(coords.shape)\n",
    "coords.head()"
   ]
  },
  {
   "cell_type": "code",
   "execution_count": 13,
   "metadata": {
    "scrolled": true
   },
   "outputs": [
    {
     "data": {
      "text/html": [
       "<div>\n",
       "<style scoped>\n",
       "    .dataframe tbody tr th:only-of-type {\n",
       "        vertical-align: middle;\n",
       "    }\n",
       "\n",
       "    .dataframe tbody tr th {\n",
       "        vertical-align: top;\n",
       "    }\n",
       "\n",
       "    .dataframe thead th {\n",
       "        text-align: right;\n",
       "    }\n",
       "</style>\n",
       "<table border=\"1\" class=\"dataframe\">\n",
       "  <thead>\n",
       "    <tr style=\"text-align: right;\">\n",
       "      <th></th>\n",
       "      <th>Neighborhood</th>\n",
       "      <th>Borough</th>\n",
       "      <th>Longitude</th>\n",
       "      <th>Latitude</th>\n",
       "    </tr>\n",
       "  </thead>\n",
       "  <tbody>\n",
       "    <tr>\n",
       "      <th>0</th>\n",
       "      <td>Greektown</td>\n",
       "      <td>GREEKTOWN</td>\n",
       "      <td>-87.647127</td>\n",
       "      <td>41.878545</td>\n",
       "    </tr>\n",
       "    <tr>\n",
       "      <th>1</th>\n",
       "      <td>Printers Row</td>\n",
       "      <td>PRINTERS ROW</td>\n",
       "      <td>-87.629035</td>\n",
       "      <td>41.870981</td>\n",
       "    </tr>\n",
       "    <tr>\n",
       "      <th>2</th>\n",
       "      <td>Millenium Park</td>\n",
       "      <td>MILLENIUM PARK</td>\n",
       "      <td>-87.620379</td>\n",
       "      <td>41.882774</td>\n",
       "    </tr>\n",
       "    <tr>\n",
       "      <th>3</th>\n",
       "      <td>Rush &amp; Division</td>\n",
       "      <td>RUSH &amp; DIVISION</td>\n",
       "      <td>-87.629068</td>\n",
       "      <td>41.899236</td>\n",
       "    </tr>\n",
       "    <tr>\n",
       "      <th>4</th>\n",
       "      <td>Magnificent Mile</td>\n",
       "      <td>STREETERVILLE</td>\n",
       "      <td>-87.624188</td>\n",
       "      <td>41.894784</td>\n",
       "    </tr>\n",
       "  </tbody>\n",
       "</table>\n",
       "</div>"
      ],
      "text/plain": [
       "       Neighborhood          Borough  Longitude   Latitude\n",
       "0         Greektown        GREEKTOWN -87.647127  41.878545\n",
       "1      Printers Row     PRINTERS ROW -87.629035  41.870981\n",
       "2    Millenium Park   MILLENIUM PARK -87.620379  41.882774\n",
       "3   Rush & Division  RUSH & DIVISION -87.629068  41.899236\n",
       "4  Magnificent Mile    STREETERVILLE -87.624188  41.894784"
      ]
     },
     "execution_count": 13,
     "metadata": {},
     "output_type": "execute_result"
    }
   ],
   "source": [
    "#Merge normalized coordinate df with neighborhood df\n",
    "chi_sdf=chi_sdf.merge(coords,left_index=True,right_index=True)\n",
    "\n",
    "chi_sdf=chi_sdf.drop(columns={'OBJECTID','Shape__Area','Shape__Length','ORIG_FID','SHAPE','spatialReference.wkid','spatialReference.latestWkid'})\n",
    "\n",
    "chi_sdf=chi_sdf.rename(columns={'pri_neigh':'Neighborhood','sec_neigh':'Borough','x':'Longitude','y':'Latitude'})\n",
    "chi_sdf.head()"
   ]
  },
  {
   "cell_type": "code",
   "execution_count": 14,
   "metadata": {},
   "outputs": [],
   "source": [
    "# Add Other Information to help identify location during analysis and visualization\n",
    "\n",
    "chi_sdf1=chi_sdf.assign(City = 'Chicago'+', '+'Illinois')"
   ]
  },
  {
   "cell_type": "code",
   "execution_count": 15,
   "metadata": {},
   "outputs": [],
   "source": [
    "chi_sdf1.to_csv(r'C:/Users/schne/Desktop/IBM Data Science Certification/Python v2/Applied Data Science Capstone/Notebooks/Cities/Chicago/chicago_data.csv')"
   ]
  },
  {
   "cell_type": "code",
   "execution_count": null,
   "metadata": {},
   "outputs": [],
   "source": []
  }
 ],
 "metadata": {
  "kernelspec": {
   "display_name": "Python 3",
   "language": "python",
   "name": "python3"
  },
  "language_info": {
   "codemirror_mode": {
    "name": "ipython",
    "version": 3
   },
   "file_extension": ".py",
   "mimetype": "text/x-python",
   "name": "python",
   "nbconvert_exporter": "python",
   "pygments_lexer": "ipython3",
   "version": "3.8.5"
  }
 },
 "nbformat": 4,
 "nbformat_minor": 4
}
